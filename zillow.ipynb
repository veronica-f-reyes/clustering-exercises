{
 "cells": [
  {
   "cell_type": "markdown",
   "id": "2218c50e",
   "metadata": {},
   "source": [
    "# Data Wrangling Exercises\n",
    "\n",
    "### Acquire"
   ]
  },
  {
   "cell_type": "markdown",
   "id": "5de2fefe",
   "metadata": {},
   "source": [
    "#### acquire & summarize\n",
    "\n",
    "1. Acquire data from mySQL using the python module to connect and query. You will want to end with a single dataframe. Make sure to include: the logerror, all fields related to the properties that are available. You will end up using all the tables in the database.\n",
    "      -  Be sure to do the correct join (inner, outer, etc.). We do not want to eliminate properties purely because they may have a null value for airconditioningtypeid.\n",
    "      - Only include properties with a transaction in 2017, and include only the last transaction for each property (so no duplicate property ID's), along with zestimate error and date of transaction.\n",
    "      - Only include properties that include a latitude and longitude value."
   ]
  },
  {
   "cell_type": "code",
   "execution_count": 1,
   "id": "f31004f0",
   "metadata": {},
   "outputs": [],
   "source": [
    "import acquire"
   ]
  },
  {
   "cell_type": "code",
   "execution_count": 2,
   "id": "01cdc66f",
   "metadata": {},
   "outputs": [],
   "source": [
    "df = acquire.get_zillow_data()"
   ]
  },
  {
   "cell_type": "markdown",
   "id": "0b38366f",
   "metadata": {},
   "source": [
    "2. Summarize your data (summary stats, info, dtypes, shape, distributions, value_counts, etc.)"
   ]
  },
  {
   "cell_type": "code",
   "execution_count": 3,
   "id": "f679d5b9",
   "metadata": {},
   "outputs": [
    {
     "name": "stdout",
     "output_type": "stream",
     "text": [
      "=====================================================\n",
      "\n",
      "\n",
      "Dataframe head: \n",
      "|    |   parcelid |   typeconstructiontypeid |   storytypeid |   propertylandusetypeid |   heatingorsystemtypeid |   buildingclasstypeid |   architecturalstyletypeid |   airconditioningtypeid |      id |   basementsqft |   bathroomcnt |   bedroomcnt |   buildingqualitytypeid |   calculatedbathnbr |   decktypeid |   finishedfloor1squarefeet |   calculatedfinishedsquarefeet |   finishedsquarefeet12 |   finishedsquarefeet13 |   finishedsquarefeet15 |   finishedsquarefeet50 |   finishedsquarefeet6 |   fips |   fireplacecnt |   fullbathcnt |   garagecarcnt |   garagetotalsqft |   hashottuborspa |    latitude |    longitude |   lotsizesquarefeet |   poolcnt |   poolsizesum |   pooltypeid10 |   pooltypeid2 |   pooltypeid7 |   propertycountylandusecode | propertyzoningdesc   |   rawcensustractandblock |   regionidcity |   regionidcounty |   regionidneighborhood |   regionidzip |   roomcnt |   threequarterbathnbr |   unitcnt |   yardbuildingsqft17 |   yardbuildingsqft26 |   yearbuilt |   numberofstories |   fireplaceflag |   structuretaxvaluedollarcnt |   taxvaluedollarcnt |   assessmentyear |   landtaxvaluedollarcnt |   taxamount | taxdelinquencyflag   |   taxdelinquencyyear |   censustractandblock | airconditioningdesc   | architecturalstyledesc   | buildingclassdesc   | heatingorsystemdesc   |   id |   logerror | transactiondate   | propertylandusedesc       | storydesc   | typeconstructiondesc   |\n",
      "|---:|-----------:|-------------------------:|--------------:|------------------------:|------------------------:|----------------------:|---------------------------:|------------------------:|--------:|---------------:|--------------:|-------------:|------------------------:|--------------------:|-------------:|---------------------------:|-------------------------------:|-----------------------:|-----------------------:|-----------------------:|-----------------------:|----------------------:|-------:|---------------:|--------------:|---------------:|------------------:|-----------------:|------------:|-------------:|--------------------:|----------:|--------------:|---------------:|--------------:|--------------:|----------------------------:|:---------------------|-------------------------:|---------------:|-----------------:|-----------------------:|--------------:|----------:|----------------------:|----------:|---------------------:|---------------------:|------------:|------------------:|----------------:|-----------------------------:|--------------------:|-----------------:|------------------------:|------------:|:---------------------|---------------------:|----------------------:|:----------------------|:-------------------------|:--------------------|:----------------------|-----:|-----------:|:------------------|:--------------------------|:------------|:-----------------------|\n",
      "|  0 |   14297519 |                      nan |           nan |                     261 |                     nan |                   nan |                        nan |                     nan | 1727539 |            nan |           3.5 |            4 |                     nan |                 3.5 |          nan |                        nan |                           3100 |                   3100 |                    nan |                    nan |                    nan |                   nan |   6059 |            nan |             3 |              2 |               633 |              nan | 3.36349e+07 | -1.17869e+08 |                4506 |       nan |           nan |            nan |           nan |           nan |                         122 |                      |              6.05906e+07 |          53571 |             1286 |                    nan |         96978 |         0 |                     1 |       nan |                  nan |                  nan |        1998 |               nan |             nan |                       485713 |         1.02328e+06 |             2016 |                  537569 |    11013.7  |                      |                  nan |           6.05906e+13 |                       |                          |                     |                       |    0 | 0.0255949  | 2017-01-01        | Single Family Residential |             |                        |\n",
      "|  1 |   17052889 |                      nan |           nan |                     261 |                     nan |                   nan |                        nan |                     nan | 1387261 |            nan |           1   |            2 |                     nan |                 1   |          nan |                       1465 |                           1465 |                   1465 |                    nan |                    nan |                   1465 |                   nan |   6111 |              1 |             1 |              1 |                 0 |              nan | 3.44493e+07 | -1.19282e+08 |               12647 |       nan |           nan |            nan |           nan |           nan |                        1110 |                      |              6.111e+07   |          13091 |             2061 |                    nan |         97099 |         5 |                   nan |       nan |                  nan |                  nan |        1967 |                 1 |             nan |                        88000 |    464000           |             2016 |                  376000 |     5672.48 |                      |                  nan |           6.111e+13   |                       |                          |                     |                       |    1 | 0.0556191  | 2017-01-01        | Single Family Residential |             |                        |\n",
      "|  2 |   14186244 |                      nan |           nan |                     261 |                     nan |                   nan |                        nan |                     nan |   11677 |            nan |           2   |            3 |                     nan |                 2   |          nan |                        nan |                           1243 |                   1243 |                    nan |                    nan |                    nan |                   nan |   6059 |            nan |             2 |              2 |               440 |              nan | 3.38862e+07 | -1.17823e+08 |                8432 |         1 |           nan |            nan |           nan |             1 |                         122 |                      |              6.05902e+07 |          21412 |             1286 |                    nan |         97078 |         6 |                   nan |       nan |                  nan |                  nan |        1962 |                 1 |             nan |                        85289 |    564778           |             2016 |                  479489 |     6488.3  |                      |                  nan |           6.05902e+13 |                       |                          |                     |                       |    2 | 0.00538285 | 2017-01-01        | Single Family Residential |             |                        |\n",
      "=====================================================\n",
      "\n",
      "\n",
      "Dataframe info: \n",
      "<class 'pandas.core.frame.DataFrame'>\n",
      "Int64Index: 77381 entries, 0 to 77578\n",
      "Data columns (total 69 columns):\n",
      " #   Column                        Non-Null Count  Dtype  \n",
      "---  ------                        --------------  -----  \n",
      " 0   parcelid                      77381 non-null  int64  \n",
      " 1   typeconstructiontypeid        222 non-null    float64\n",
      " 2   storytypeid                   50 non-null     float64\n",
      " 3   propertylandusetypeid         77381 non-null  float64\n",
      " 4   heatingorsystemtypeid         49440 non-null  float64\n",
      " 5   buildingclasstypeid           15 non-null     float64\n",
      " 6   architecturalstyletypeid      206 non-null    float64\n",
      " 7   airconditioningtypeid         24953 non-null  float64\n",
      " 8   id                            77381 non-null  int64  \n",
      " 9   basementsqft                  50 non-null     float64\n",
      " 10  bathroomcnt                   77381 non-null  float64\n",
      " 11  bedroomcnt                    77381 non-null  float64\n",
      " 12  buildingqualitytypeid         49672 non-null  float64\n",
      " 13  calculatedbathnbr             76772 non-null  float64\n",
      " 14  decktypeid                    614 non-null    float64\n",
      " 15  finishedfloor1squarefeet      6023 non-null   float64\n",
      " 16  calculatedfinishedsquarefeet  77185 non-null  float64\n",
      " 17  finishedsquarefeet12          73749 non-null  float64\n",
      " 18  finishedsquarefeet13          41 non-null     float64\n",
      " 19  finishedsquarefeet15          3009 non-null   float64\n",
      " 20  finishedsquarefeet50          6023 non-null   float64\n",
      " 21  finishedsquarefeet6           386 non-null    float64\n",
      " 22  fips                          77381 non-null  float64\n",
      " 23  fireplacecnt                  8276 non-null   float64\n",
      " 24  fullbathcnt                   76772 non-null  float64\n",
      " 25  garagecarcnt                  25474 non-null  float64\n",
      " 26  garagetotalsqft               25474 non-null  float64\n",
      " 27  hashottuborspa                1538 non-null   float64\n",
      " 28  latitude                      77381 non-null  float64\n",
      " 29  longitude                     77381 non-null  float64\n",
      " 30  lotsizesquarefeet             69142 non-null  float64\n",
      " 31  poolcnt                       16137 non-null  float64\n",
      " 32  poolsizesum                   867 non-null    float64\n",
      " 33  pooltypeid10                  464 non-null    float64\n",
      " 34  pooltypeid2                   1074 non-null   float64\n",
      " 35  pooltypeid7                   15042 non-null  float64\n",
      " 36  propertycountylandusecode     77381 non-null  object \n",
      " 37  propertyzoningdesc            50331 non-null  object \n",
      " 38  rawcensustractandblock        77381 non-null  float64\n",
      " 39  regionidcity                  75910 non-null  float64\n",
      " 40  regionidcounty                77381 non-null  float64\n",
      " 41  regionidneighborhood          30890 non-null  float64\n",
      " 42  regionidzip                   77331 non-null  float64\n",
      " 43  roomcnt                       77381 non-null  float64\n",
      " 44  threequarterbathnbr           10096 non-null  float64\n",
      " 45  unitcnt                       50563 non-null  float64\n",
      " 46  yardbuildingsqft17            2388 non-null   float64\n",
      " 47  yardbuildingsqft26            70 non-null     float64\n",
      " 48  yearbuilt                     77118 non-null  float64\n",
      " 49  numberofstories               17560 non-null  float64\n",
      " 50  fireplaceflag                 172 non-null    float64\n",
      " 51  structuretaxvaluedollarcnt    77269 non-null  float64\n",
      " 52  taxvaluedollarcnt             77380 non-null  float64\n",
      " 53  assessmentyear                77381 non-null  float64\n",
      " 54  landtaxvaluedollarcnt         77379 non-null  float64\n",
      " 55  taxamount                     77376 non-null  float64\n",
      " 56  taxdelinquencyflag            2886 non-null   object \n",
      " 57  taxdelinquencyyear            2886 non-null   float64\n",
      " 58  censustractandblock           77137 non-null  float64\n",
      " 59  airconditioningdesc           24953 non-null  object \n",
      " 60  architecturalstyledesc        206 non-null    object \n",
      " 61  buildingclassdesc             15 non-null     object \n",
      " 62  heatingorsystemdesc           49440 non-null  object \n",
      " 63  id                            77381 non-null  int64  \n",
      " 64  logerror                      77381 non-null  float64\n",
      " 65  transactiondate               77381 non-null  object \n",
      " 66  propertylandusedesc           77381 non-null  object \n",
      " 67  storydesc                     50 non-null     object \n",
      " 68  typeconstructiondesc          222 non-null    object \n",
      "dtypes: float64(55), int64(3), object(11)\n",
      "memory usage: 41.3+ MB\n",
      "None\n",
      "=====================================================\n",
      "\n",
      "\n",
      "Dataframe Description: \n",
      "|       |        parcelid |   typeconstructiontypeid |   storytypeid |   propertylandusetypeid |   heatingorsystemtypeid |   buildingclasstypeid |   architecturalstyletypeid |   airconditioningtypeid |               id |   basementsqft |   bathroomcnt |   bedroomcnt |   buildingqualitytypeid |   calculatedbathnbr |   decktypeid |   finishedfloor1squarefeet |   calculatedfinishedsquarefeet |   finishedsquarefeet12 |   finishedsquarefeet13 |   finishedsquarefeet15 |   finishedsquarefeet50 |   finishedsquarefeet6 |       fips |   fireplacecnt |   fullbathcnt |   garagecarcnt |   garagetotalsqft |   hashottuborspa |         latitude |        longitude |   lotsizesquarefeet |   poolcnt |   poolsizesum |   pooltypeid10 |   pooltypeid2 |   pooltypeid7 |   rawcensustractandblock |   regionidcity |   regionidcounty |   regionidneighborhood |   regionidzip |     roomcnt |   threequarterbathnbr |     unitcnt |   yardbuildingsqft17 |   yardbuildingsqft26 |   yearbuilt |   numberofstories |   fireplaceflag |   structuretaxvaluedollarcnt |   taxvaluedollarcnt |   assessmentyear |   landtaxvaluedollarcnt |   taxamount |   taxdelinquencyyear |   censustractandblock |      id |       logerror |\n",
      "|:------|----------------:|-------------------------:|--------------:|------------------------:|------------------------:|----------------------:|---------------------------:|------------------------:|-----------------:|---------------:|--------------:|-------------:|------------------------:|--------------------:|-------------:|---------------------------:|-------------------------------:|-----------------------:|-----------------------:|-----------------------:|-----------------------:|----------------------:|-----------:|---------------:|--------------:|---------------:|------------------:|-----------------:|-----------------:|-----------------:|--------------------:|----------:|--------------:|---------------:|--------------:|--------------:|-------------------------:|---------------:|-----------------:|-----------------------:|--------------:|------------:|----------------------:|------------:|---------------------:|---------------------:|------------:|------------------:|----------------:|-----------------------------:|--------------------:|-----------------:|------------------------:|------------:|---------------------:|----------------------:|--------:|---------------:|\n",
      "| count | 77381           |               222        |            50 |              77381      |             49440       |             15        |                  206       |             24953       |  77381           |         50     |  77381        |  77381       |             49672       |        76772        |          614 |                   6023     |                      77185     |              73749     |                 41     |                3009    |               6023     |                386    | 77381      |     8276       |  76772        |   25474        |         25474     |             1538 |  77381           |  77381           |     69142           |     16137 |       867     |            464 |          1074 |         15042 |          77381           |        75910   |        77381     |                  30890 |      77331    | 77381       |           10096       | 50563       |             2388     |               70     |   77118     |      17560        |             172 |              77269           |     77380           |            77381 |         77379           |    77376    |           2886       |       77137           | 77381   | 77381          |\n",
      "| mean  |     1.30072e+07 |                 6.04054  |             7 |                261.826  |                 3.92051 |              3.93333  |                    7.38835 |                 1.81329 |      1.49514e+06 |        679.72  |      2.29913  |      3.05349 |                 6.53459 |            2.31687  |           66 |                   1366.51  |                       1785.22  |               1760.52  |               1389.85  |                2357.79 |               1381.77  |               2082.5  |  6048.82   |        1.19116 |      2.25048  |       1.81546  |           350.112 |                1 |      3.40084e+07 |     -1.18204e+08 |     29969.3         |         1 |       517.917 |              1 |             1 |             1 |              6.04913e+07 |        33671.2 |         2534.16  |                 187735 |      96587.1  |     1.47695 |               1.00961 |     1.11002 |              305.411 |              216.386 |    1968.64  |          1.43474  |               1 |             189315           |    490134           |             2016 |        301095           |     5995.53 |             14.0873  |           6.04967e+13 | 38847.9 |     0.0169104  |\n",
      "| std   |     3.48135e+06 |                 0.557285 |             0 |                  5.1412 |                 3.59278 |              0.258199 |                    2.73454 |                 2.96789 | 860907           |        689.704 |      0.996651 |      1.1391  |                 1.72195 |            0.979755 |            0 |                    671.308 |                        954.049 |                934.024 |                123.532 |                1188.78 |                726.469 |               1240.38 |    20.7482 |        0.49108 |      0.966552 |       0.588345 |           261.682 |                0 | 265389           | 359483           |    123371           |         0 |       156.716 |              0 |             0 |             0 |         205905           |        47169.8 |          801.593 |                 165119 |       3798.35 |     2.82439 |               0.11863 |     1.17115 |              238.393 |              190.178 |      23.786 |          0.544569 |               0 |             230087           |    653444           |                0 |        492596           |     7622.84 |              2.18566 |           1.53524e+12 | 22402.2 |     0.169247   |\n",
      "| min   |     1.07119e+07 |                 4        |             7 |                 31      |                 1       |              3        |                    2       |                 1       |    349           |         38     |      0        |      0       |                 1       |            1        |           66 |                     44     |                        128     |                128     |               1056     |                 598    |                 44     |                380    |  6037      |        1       |      1        |       0        |             0     |                1 |      3.33395e+07 |     -1.19475e+08 |       236           |         1 |        24     |              1 |             1 |             1 |              6.0371e+07  |         3491   |         1286     |                   6952 |      95982    |     0       |               1       |     1       |               11     |               12     |    1824     |          1        |               1 |                 44           |      1000           |             2016 |           161           |       19.92 |              3       |           6.0371e+13  |     0   |    -4.65542    |\n",
      "| 25%   |     1.15383e+07 |                 6        |             7 |                261      |                 2       |              4        |                    7       |                 1       | 752070           |        273     |      2        |      2       |                 6       |            2        |           66 |                    955     |                       1182     |               1172     |               1344     |                1625    |                956     |                993.75 |  6037      |        1       |      2        |       2        |             0     |                1 |      3.38146e+07 |     -1.18415e+08 |      5700           |         1 |       424     |              1 |             1 |             1 |              6.03731e+07 |        12447   |         1286     |                  46736 |      96193    |     0       |               1       |     1       |              170     |               61.5   |    1953     |          1        |               1 |              84265           |    207000           |             2016 |         85504           |     2715.63 |             14       |           6.03731e+13 | 19460   |    -0.024138   |\n",
      "| 50%   |     1.25316e+07 |                 6        |             7 |                261      |                 2       |              4        |                    7       |                 1       |      1.49793e+06 |        515     |      2        |      3       |                 6       |            2        |           66 |                   1257     |                       1543     |               1523     |               1440     |                2094    |               1259     |               1812.5  |  6037      |        1       |      2        |       2        |           436     |                1 |      3.4022e+07  |     -1.18181e+08 |      7206           |         1 |       500     |              1 |             1 |             1 |              6.0376e+07  |        25218   |         3101     |                 118849 |      96389    |     0       |               1       |     1       |              251     |              164.5   |    1970     |          1        |               1 |             136499           |    358976           |             2016 |        203372           |     4450.69 |             15       |           6.0376e+13  | 38869   |     0.00673829 |\n",
      "| 75%   |     1.42118e+07 |                 6        |             7 |                266      |                 7       |              4        |                    7       |                 1       |      2.24054e+06 |        796.5   |      3        |      4       |                 8       |            3        |           66 |                   1615     |                       2113     |               2076     |               1440     |                2838    |               1621.5   |               3053.5  |  6059      |        1       |      3        |       2        |           493     |                1 |      3.41744e+07 |     -1.17928e+08 |     11831           |         1 |       600     |              1 |             1 |             1 |              6.05904e+07 |        45457   |         3101     |                 274765 |      96987    |     0       |               1       |     1       |              364     |              310.5   |    1987     |          2        |               1 |             218787           |    569002           |             2016 |        366796           |     6927.79 |             15       |           6.05904e+13 | 58252   |     0.0393103  |\n",
      "| max   |     1.67689e+08 |                13        |             7 |                275      |                24       |              4        |                   21       |                13       |      2.98227e+06 |       3560     |     18        |     16       |                12       |           18        |           66 |                   6912     |                      35640     |              21929     |               1560     |               35640    |              12467     |               5598    |  6111      |        5       |     18        |      14        |          4251     |                1 |      3.48188e+07 |     -1.17555e+08 |         6.97101e+06 |         1 |      1500     |              1 |             1 |             1 |              6.11101e+07 |       396556   |         3101     |                 764167 |     399675    |    15       |               7       |   237       |             3191     |              868     |    2016     |          6        |               1 |                  1.14218e+07 |         4.90612e+07 |             2016 |             4.89522e+07 |   586639    |             99       |           4.8303e+14  | 77612   |     5.263      |\n"
     ]
    },
    {
     "ename": "AttributeError",
     "evalue": "'DataFrame' object has no attribute 'dtype'",
     "output_type": "error",
     "traceback": [
      "\u001b[0;31m---------------------------------------------------------------------------\u001b[0m",
      "\u001b[0;31mAttributeError\u001b[0m                            Traceback (most recent call last)",
      "\u001b[0;32m<ipython-input-3-799cea5a74da>\u001b[0m in \u001b[0;36m<module>\u001b[0;34m\u001b[0m\n\u001b[0;32m----> 1\u001b[0;31m \u001b[0macquire\u001b[0m\u001b[0;34m.\u001b[0m\u001b[0msummarize\u001b[0m\u001b[0;34m(\u001b[0m\u001b[0mdf\u001b[0m\u001b[0;34m)\u001b[0m\u001b[0;34m\u001b[0m\u001b[0;34m\u001b[0m\u001b[0m\n\u001b[0m",
      "\u001b[0;32m~/codeup-data-science/clustering-exercises/acquire.py\u001b[0m in \u001b[0;36msummarize\u001b[0;34m(df)\u001b[0m\n\u001b[1;32m    116\u001b[0m     \u001b[0mprint\u001b[0m\u001b[0;34m(\u001b[0m\u001b[0;34m'Dataframe Description: '\u001b[0m\u001b[0;34m)\u001b[0m\u001b[0;34m\u001b[0m\u001b[0;34m\u001b[0m\u001b[0m\n\u001b[1;32m    117\u001b[0m     \u001b[0mprint\u001b[0m\u001b[0;34m(\u001b[0m\u001b[0mdf\u001b[0m\u001b[0;34m.\u001b[0m\u001b[0mdescribe\u001b[0m\u001b[0;34m(\u001b[0m\u001b[0;34m)\u001b[0m\u001b[0;34m.\u001b[0m\u001b[0mto_markdown\u001b[0m\u001b[0;34m(\u001b[0m\u001b[0;34m)\u001b[0m\u001b[0;34m)\u001b[0m\u001b[0;34m\u001b[0m\u001b[0;34m\u001b[0m\u001b[0m\n\u001b[0;32m--> 118\u001b[0;31m     \u001b[0mnum_cols\u001b[0m \u001b[0;34m=\u001b[0m \u001b[0;34m[\u001b[0m\u001b[0mcol\u001b[0m \u001b[0;32mfor\u001b[0m \u001b[0mcol\u001b[0m \u001b[0;32min\u001b[0m \u001b[0mdf\u001b[0m\u001b[0;34m.\u001b[0m\u001b[0mcolumns\u001b[0m \u001b[0;32mif\u001b[0m \u001b[0mdf\u001b[0m\u001b[0;34m[\u001b[0m\u001b[0mcol\u001b[0m\u001b[0;34m]\u001b[0m\u001b[0;34m.\u001b[0m\u001b[0mdtype\u001b[0m \u001b[0;34m!=\u001b[0m \u001b[0;34m'O'\u001b[0m\u001b[0;34m]\u001b[0m\u001b[0;34m\u001b[0m\u001b[0;34m\u001b[0m\u001b[0m\n\u001b[0m\u001b[1;32m    119\u001b[0m     \u001b[0mcat_cols\u001b[0m \u001b[0;34m=\u001b[0m \u001b[0;34m[\u001b[0m\u001b[0mcol\u001b[0m \u001b[0;32mfor\u001b[0m \u001b[0mcol\u001b[0m \u001b[0;32min\u001b[0m \u001b[0mdf\u001b[0m\u001b[0;34m.\u001b[0m\u001b[0mcolumns\u001b[0m \u001b[0;32mif\u001b[0m \u001b[0mcol\u001b[0m \u001b[0;32mnot\u001b[0m \u001b[0;32min\u001b[0m \u001b[0mnum_cols\u001b[0m\u001b[0;34m]\u001b[0m\u001b[0;34m\u001b[0m\u001b[0;34m\u001b[0m\u001b[0m\n\u001b[1;32m    120\u001b[0m     \u001b[0mprint\u001b[0m\u001b[0;34m(\u001b[0m\u001b[0;34m'====================================================='\u001b[0m\u001b[0;34m)\u001b[0m\u001b[0;34m\u001b[0m\u001b[0;34m\u001b[0m\u001b[0m\n",
      "\u001b[0;32m~/codeup-data-science/clustering-exercises/acquire.py\u001b[0m in \u001b[0;36m<listcomp>\u001b[0;34m(.0)\u001b[0m\n\u001b[1;32m    116\u001b[0m     \u001b[0mprint\u001b[0m\u001b[0;34m(\u001b[0m\u001b[0;34m'Dataframe Description: '\u001b[0m\u001b[0;34m)\u001b[0m\u001b[0;34m\u001b[0m\u001b[0;34m\u001b[0m\u001b[0m\n\u001b[1;32m    117\u001b[0m     \u001b[0mprint\u001b[0m\u001b[0;34m(\u001b[0m\u001b[0mdf\u001b[0m\u001b[0;34m.\u001b[0m\u001b[0mdescribe\u001b[0m\u001b[0;34m(\u001b[0m\u001b[0;34m)\u001b[0m\u001b[0;34m.\u001b[0m\u001b[0mto_markdown\u001b[0m\u001b[0;34m(\u001b[0m\u001b[0;34m)\u001b[0m\u001b[0;34m)\u001b[0m\u001b[0;34m\u001b[0m\u001b[0;34m\u001b[0m\u001b[0m\n\u001b[0;32m--> 118\u001b[0;31m     \u001b[0mnum_cols\u001b[0m \u001b[0;34m=\u001b[0m \u001b[0;34m[\u001b[0m\u001b[0mcol\u001b[0m \u001b[0;32mfor\u001b[0m \u001b[0mcol\u001b[0m \u001b[0;32min\u001b[0m \u001b[0mdf\u001b[0m\u001b[0;34m.\u001b[0m\u001b[0mcolumns\u001b[0m \u001b[0;32mif\u001b[0m \u001b[0mdf\u001b[0m\u001b[0;34m[\u001b[0m\u001b[0mcol\u001b[0m\u001b[0;34m]\u001b[0m\u001b[0;34m.\u001b[0m\u001b[0mdtype\u001b[0m \u001b[0;34m!=\u001b[0m \u001b[0;34m'O'\u001b[0m\u001b[0;34m]\u001b[0m\u001b[0;34m\u001b[0m\u001b[0;34m\u001b[0m\u001b[0m\n\u001b[0m\u001b[1;32m    119\u001b[0m     \u001b[0mcat_cols\u001b[0m \u001b[0;34m=\u001b[0m \u001b[0;34m[\u001b[0m\u001b[0mcol\u001b[0m \u001b[0;32mfor\u001b[0m \u001b[0mcol\u001b[0m \u001b[0;32min\u001b[0m \u001b[0mdf\u001b[0m\u001b[0;34m.\u001b[0m\u001b[0mcolumns\u001b[0m \u001b[0;32mif\u001b[0m \u001b[0mcol\u001b[0m \u001b[0;32mnot\u001b[0m \u001b[0;32min\u001b[0m \u001b[0mnum_cols\u001b[0m\u001b[0;34m]\u001b[0m\u001b[0;34m\u001b[0m\u001b[0;34m\u001b[0m\u001b[0m\n\u001b[1;32m    120\u001b[0m     \u001b[0mprint\u001b[0m\u001b[0;34m(\u001b[0m\u001b[0;34m'====================================================='\u001b[0m\u001b[0;34m)\u001b[0m\u001b[0;34m\u001b[0m\u001b[0;34m\u001b[0m\u001b[0m\n",
      "\u001b[0;32m/opt/homebrew/anaconda3/lib/python3.8/site-packages/pandas/core/generic.py\u001b[0m in \u001b[0;36m__getattr__\u001b[0;34m(self, name)\u001b[0m\n\u001b[1;32m   5463\u001b[0m             \u001b[0;32mif\u001b[0m \u001b[0mself\u001b[0m\u001b[0;34m.\u001b[0m\u001b[0m_info_axis\u001b[0m\u001b[0;34m.\u001b[0m\u001b[0m_can_hold_identifiers_and_holds_name\u001b[0m\u001b[0;34m(\u001b[0m\u001b[0mname\u001b[0m\u001b[0;34m)\u001b[0m\u001b[0;34m:\u001b[0m\u001b[0;34m\u001b[0m\u001b[0;34m\u001b[0m\u001b[0m\n\u001b[1;32m   5464\u001b[0m                 \u001b[0;32mreturn\u001b[0m \u001b[0mself\u001b[0m\u001b[0;34m[\u001b[0m\u001b[0mname\u001b[0m\u001b[0;34m]\u001b[0m\u001b[0;34m\u001b[0m\u001b[0;34m\u001b[0m\u001b[0m\n\u001b[0;32m-> 5465\u001b[0;31m             \u001b[0;32mreturn\u001b[0m \u001b[0mobject\u001b[0m\u001b[0;34m.\u001b[0m\u001b[0m__getattribute__\u001b[0m\u001b[0;34m(\u001b[0m\u001b[0mself\u001b[0m\u001b[0;34m,\u001b[0m \u001b[0mname\u001b[0m\u001b[0;34m)\u001b[0m\u001b[0;34m\u001b[0m\u001b[0;34m\u001b[0m\u001b[0m\n\u001b[0m\u001b[1;32m   5466\u001b[0m \u001b[0;34m\u001b[0m\u001b[0m\n\u001b[1;32m   5467\u001b[0m     \u001b[0;32mdef\u001b[0m \u001b[0m__setattr__\u001b[0m\u001b[0;34m(\u001b[0m\u001b[0mself\u001b[0m\u001b[0;34m,\u001b[0m \u001b[0mname\u001b[0m\u001b[0;34m:\u001b[0m \u001b[0mstr\u001b[0m\u001b[0;34m,\u001b[0m \u001b[0mvalue\u001b[0m\u001b[0;34m)\u001b[0m \u001b[0;34m->\u001b[0m \u001b[0;32mNone\u001b[0m\u001b[0;34m:\u001b[0m\u001b[0;34m\u001b[0m\u001b[0;34m\u001b[0m\u001b[0m\n",
      "\u001b[0;31mAttributeError\u001b[0m: 'DataFrame' object has no attribute 'dtype'"
     ]
    }
   ],
   "source": [
    "acquire.summarize(df)"
   ]
  },
  {
   "cell_type": "code",
   "execution_count": null,
   "id": "1249a496",
   "metadata": {},
   "outputs": [],
   "source": []
  }
 ],
 "metadata": {
  "kernelspec": {
   "display_name": "Python 3",
   "language": "python",
   "name": "python3"
  },
  "language_info": {
   "codemirror_mode": {
    "name": "ipython",
    "version": 3
   },
   "file_extension": ".py",
   "mimetype": "text/x-python",
   "name": "python",
   "nbconvert_exporter": "python",
   "pygments_lexer": "ipython3",
   "version": "3.8.8"
  }
 },
 "nbformat": 4,
 "nbformat_minor": 5
}
