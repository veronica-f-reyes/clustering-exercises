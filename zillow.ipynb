{
 "cells": [
  {
   "cell_type": "markdown",
   "id": "0d7ce0de",
   "metadata": {},
   "source": [
    "# Data Wrangling Exercises\n",
    "\n",
    "### Acquire"
   ]
  },
  {
   "cell_type": "markdown",
   "id": "200841b4",
   "metadata": {},
   "source": [
    "#### acquire & summarize\n",
    "\n",
    "1. Acquire data from mySQL using the python module to connect and query. You will want to end with a single dataframe. Make sure to include: the logerror, all fields related to the properties that are available. You will end up using all the tables in the database.\n",
    "      -  Be sure to do the correct join (inner, outer, etc.). We do not want to eliminate properties purely because they may have a null value for airconditioningtypeid.\n",
    "      - Only include properties with a transaction in 2017, and include only the last transaction for each property (so no duplicate property ID's), along with zestimate error and date of transaction.\n",
    "      - Only include properties that include a latitude and longitude value."
   ]
  },
  {
   "cell_type": "code",
   "execution_count": 1,
   "id": "c5b87385",
   "metadata": {},
   "outputs": [],
   "source": [
    "import acquire"
   ]
  },
  {
   "cell_type": "code",
   "execution_count": 2,
   "id": "1f6fcd39",
   "metadata": {},
   "outputs": [],
   "source": [
    "df = acquire.get_zillow_data()"
   ]
  },
  {
   "cell_type": "markdown",
   "id": "15113665",
   "metadata": {},
   "source": [
    "2. Summarize your data (summary stats, info, dtypes, shape, distributions, value_counts, etc.)"
   ]
  },
  {
   "cell_type": "code",
   "execution_count": 3,
   "id": "5b085c68",
   "metadata": {},
   "outputs": [
    {
     "data": {
      "text/plain": [
       "(77381, 69)"
      ]
     },
     "execution_count": 3,
     "metadata": {},
     "output_type": "execute_result"
    }
   ],
   "source": [
    "df.shape"
   ]
  },
  {
   "cell_type": "code",
   "execution_count": 4,
   "id": "272b43e3",
   "metadata": {},
   "outputs": [
    {
     "data": {
      "text/plain": [
       "<bound method NDFrame.describe of        parcelid  typeconstructiontypeid  storytypeid  propertylandusetypeid  \\\n",
       "0      14297519                     NaN          NaN                  261.0   \n",
       "1      17052889                     NaN          NaN                  261.0   \n",
       "2      14186244                     NaN          NaN                  261.0   \n",
       "3      12177905                     NaN          NaN                  261.0   \n",
       "4      10887214                     NaN          NaN                  266.0   \n",
       "...         ...                     ...          ...                    ...   \n",
       "77574  10833991                     NaN          NaN                  266.0   \n",
       "77575  11000655                     NaN          NaN                  261.0   \n",
       "77577  12773139                     NaN          NaN                  261.0   \n",
       "77576  17239384                     NaN          NaN                  261.0   \n",
       "77578  12826780                     NaN          NaN                  261.0   \n",
       "\n",
       "       heatingorsystemtypeid  buildingclasstypeid  architecturalstyletypeid  \\\n",
       "0                        NaN                  NaN                       NaN   \n",
       "1                        NaN                  NaN                       NaN   \n",
       "2                        NaN                  NaN                       NaN   \n",
       "3                        2.0                  NaN                       NaN   \n",
       "4                        2.0                  NaN                       NaN   \n",
       "...                      ...                  ...                       ...   \n",
       "77574                    2.0                  NaN                       NaN   \n",
       "77575                    2.0                  NaN                       NaN   \n",
       "77577                    2.0                  NaN                       NaN   \n",
       "77576                    NaN                  NaN                       NaN   \n",
       "77578                    2.0                  NaN                       NaN   \n",
       "\n",
       "       airconditioningtypeid       id  basementsqft  ...  airconditioningdesc  \\\n",
       "0                        NaN  1727539           NaN  ...                 None   \n",
       "1                        NaN  1387261           NaN  ...                 None   \n",
       "2                        NaN    11677           NaN  ...                 None   \n",
       "3                        NaN  2288172           NaN  ...                 None   \n",
       "4                        1.0  1970746           NaN  ...              Central   \n",
       "...                      ...      ...           ...  ...                  ...   \n",
       "77574                    1.0  2864704           NaN  ...              Central   \n",
       "77575                    NaN   673515           NaN  ...                 None   \n",
       "77577                    1.0  1843709           NaN  ...              Central   \n",
       "77576                    NaN  2968375           NaN  ...                 None   \n",
       "77578                    NaN  1187175           NaN  ...                 None   \n",
       "\n",
       "       architecturalstyledesc  buildingclassdesc  heatingorsystemdesc     id  \\\n",
       "0                        None               None                 None      0   \n",
       "1                        None               None                 None      1   \n",
       "2                        None               None                 None      2   \n",
       "3                        None               None              Central      3   \n",
       "4                        None               None              Central      4   \n",
       "...                       ...                ...                  ...    ...   \n",
       "77574                    None               None              Central  77608   \n",
       "77575                    None               None              Central  77609   \n",
       "77577                    None               None              Central  77611   \n",
       "77576                    None               None                 None  77610   \n",
       "77578                    None               None              Central  77612   \n",
       "\n",
       "       logerror  transactiondate        propertylandusedesc  storydesc  \\\n",
       "0      0.025595       2017-01-01  Single Family Residential       None   \n",
       "1      0.055619       2017-01-01  Single Family Residential       None   \n",
       "2      0.005383       2017-01-01  Single Family Residential       None   \n",
       "3     -0.103410       2017-01-01  Single Family Residential       None   \n",
       "4      0.006940       2017-01-01                Condominium       None   \n",
       "...         ...              ...                        ...        ...   \n",
       "77574 -0.002245       2017-09-20                Condominium       None   \n",
       "77575  0.020615       2017-09-20  Single Family Residential       None   \n",
       "77577  0.037129       2017-09-21  Single Family Residential       None   \n",
       "77576  0.013209       2017-09-21  Single Family Residential       None   \n",
       "77578  0.007204       2017-09-25  Single Family Residential       None   \n",
       "\n",
       "       typeconstructiondesc  \n",
       "0                      None  \n",
       "1                      None  \n",
       "2                      None  \n",
       "3                      None  \n",
       "4                      None  \n",
       "...                     ...  \n",
       "77574                  None  \n",
       "77575                  None  \n",
       "77577                  None  \n",
       "77576                  None  \n",
       "77578                  None  \n",
       "\n",
       "[77381 rows x 69 columns]>"
      ]
     },
     "execution_count": 4,
     "metadata": {},
     "output_type": "execute_result"
    }
   ],
   "source": [
    "df.describe"
   ]
  },
  {
   "cell_type": "code",
   "execution_count": 5,
   "id": "fbeb2519",
   "metadata": {},
   "outputs": [
    {
     "name": "stdout",
     "output_type": "stream",
     "text": [
      "<class 'pandas.core.frame.DataFrame'>\n",
      "Int64Index: 77381 entries, 0 to 77578\n",
      "Data columns (total 69 columns):\n",
      " #   Column                        Non-Null Count  Dtype  \n",
      "---  ------                        --------------  -----  \n",
      " 0   parcelid                      77381 non-null  int64  \n",
      " 1   typeconstructiontypeid        222 non-null    float64\n",
      " 2   storytypeid                   50 non-null     float64\n",
      " 3   propertylandusetypeid         77381 non-null  float64\n",
      " 4   heatingorsystemtypeid         49440 non-null  float64\n",
      " 5   buildingclasstypeid           15 non-null     float64\n",
      " 6   architecturalstyletypeid      206 non-null    float64\n",
      " 7   airconditioningtypeid         24953 non-null  float64\n",
      " 8   id                            77381 non-null  int64  \n",
      " 9   basementsqft                  50 non-null     float64\n",
      " 10  bathroomcnt                   77381 non-null  float64\n",
      " 11  bedroomcnt                    77381 non-null  float64\n",
      " 12  buildingqualitytypeid         49672 non-null  float64\n",
      " 13  calculatedbathnbr             76772 non-null  float64\n",
      " 14  decktypeid                    614 non-null    float64\n",
      " 15  finishedfloor1squarefeet      6023 non-null   float64\n",
      " 16  calculatedfinishedsquarefeet  77185 non-null  float64\n",
      " 17  finishedsquarefeet12          73749 non-null  float64\n",
      " 18  finishedsquarefeet13          41 non-null     float64\n",
      " 19  finishedsquarefeet15          3009 non-null   float64\n",
      " 20  finishedsquarefeet50          6023 non-null   float64\n",
      " 21  finishedsquarefeet6           386 non-null    float64\n",
      " 22  fips                          77381 non-null  float64\n",
      " 23  fireplacecnt                  8276 non-null   float64\n",
      " 24  fullbathcnt                   76772 non-null  float64\n",
      " 25  garagecarcnt                  25474 non-null  float64\n",
      " 26  garagetotalsqft               25474 non-null  float64\n",
      " 27  hashottuborspa                1538 non-null   float64\n",
      " 28  latitude                      77381 non-null  float64\n",
      " 29  longitude                     77381 non-null  float64\n",
      " 30  lotsizesquarefeet             69142 non-null  float64\n",
      " 31  poolcnt                       16137 non-null  float64\n",
      " 32  poolsizesum                   867 non-null    float64\n",
      " 33  pooltypeid10                  464 non-null    float64\n",
      " 34  pooltypeid2                   1074 non-null   float64\n",
      " 35  pooltypeid7                   15042 non-null  float64\n",
      " 36  propertycountylandusecode     77381 non-null  object \n",
      " 37  propertyzoningdesc            50331 non-null  object \n",
      " 38  rawcensustractandblock        77381 non-null  float64\n",
      " 39  regionidcity                  75910 non-null  float64\n",
      " 40  regionidcounty                77381 non-null  float64\n",
      " 41  regionidneighborhood          30890 non-null  float64\n",
      " 42  regionidzip                   77331 non-null  float64\n",
      " 43  roomcnt                       77381 non-null  float64\n",
      " 44  threequarterbathnbr           10096 non-null  float64\n",
      " 45  unitcnt                       50563 non-null  float64\n",
      " 46  yardbuildingsqft17            2388 non-null   float64\n",
      " 47  yardbuildingsqft26            70 non-null     float64\n",
      " 48  yearbuilt                     77118 non-null  float64\n",
      " 49  numberofstories               17560 non-null  float64\n",
      " 50  fireplaceflag                 172 non-null    float64\n",
      " 51  structuretaxvaluedollarcnt    77269 non-null  float64\n",
      " 52  taxvaluedollarcnt             77380 non-null  float64\n",
      " 53  assessmentyear                77381 non-null  float64\n",
      " 54  landtaxvaluedollarcnt         77379 non-null  float64\n",
      " 55  taxamount                     77376 non-null  float64\n",
      " 56  taxdelinquencyflag            2886 non-null   object \n",
      " 57  taxdelinquencyyear            2886 non-null   float64\n",
      " 58  censustractandblock           77137 non-null  float64\n",
      " 59  airconditioningdesc           24953 non-null  object \n",
      " 60  architecturalstyledesc        206 non-null    object \n",
      " 61  buildingclassdesc             15 non-null     object \n",
      " 62  heatingorsystemdesc           49440 non-null  object \n",
      " 63  id                            77381 non-null  int64  \n",
      " 64  logerror                      77381 non-null  float64\n",
      " 65  transactiondate               77381 non-null  object \n",
      " 66  propertylandusedesc           77381 non-null  object \n",
      " 67  storydesc                     50 non-null     object \n",
      " 68  typeconstructiondesc          222 non-null    object \n",
      "dtypes: float64(55), int64(3), object(11)\n",
      "memory usage: 41.3+ MB\n"
     ]
    }
   ],
   "source": [
    "df.info()"
   ]
  },
  {
   "cell_type": "code",
   "execution_count": 6,
   "id": "807b06c5",
   "metadata": {},
   "outputs": [
    {
     "data": {
      "text/plain": [
       "3.0     30362\n",
       "2.0     19169\n",
       "4.0     17513\n",
       "5.0      4543\n",
       "1.0      3379\n",
       "6.0       998\n",
       "0.0       830\n",
       "8.0       252\n",
       "7.0       208\n",
       "9.0        70\n",
       "10.0       31\n",
       "12.0       14\n",
       "11.0        8\n",
       "13.0        2\n",
       "14.0        1\n",
       "16.0        1\n",
       "Name: bedroomcnt, dtype: int64"
      ]
     },
     "execution_count": 6,
     "metadata": {},
     "output_type": "execute_result"
    }
   ],
   "source": [
    "df.bedroomcnt.value_counts()"
   ]
  },
  {
   "cell_type": "code",
   "execution_count": 7,
   "id": "b7f15a04",
   "metadata": {},
   "outputs": [
    {
     "data": {
      "text/plain": [
       "2.0     31485\n",
       "3.0     17313\n",
       "1.0     12902\n",
       "2.5      6604\n",
       "4.0      3352\n",
       "1.5      1415\n",
       "3.5      1034\n",
       "5.0      1026\n",
       "4.5       695\n",
       "0.0       592\n",
       "6.0       417\n",
       "5.5       224\n",
       "7.0       113\n",
       "8.0       108\n",
       "6.5        47\n",
       "9.0        23\n",
       "7.5        16\n",
       "10.0        7\n",
       "11.0        3\n",
       "8.5         3\n",
       "13.0        1\n",
       "18.0        1\n",
       "Name: bathroomcnt, dtype: int64"
      ]
     },
     "execution_count": 7,
     "metadata": {},
     "output_type": "execute_result"
    }
   ],
   "source": [
    "df.bathroomcnt.value_counts()"
   ]
  },
  {
   "cell_type": "markdown",
   "id": "fdd45bf0",
   "metadata": {},
   "source": [
    "3. Write a function that takes in a dataframe of observations and attributes and returns a dataframe where each row is an atttribute name, the first column is the number of rows with missing values for that attribute, and the second column is percent of total rows that have missing values for that attribute. Run the function and document takeaways from this on how you want to handle missing values."
   ]
  },
  {
   "cell_type": "code",
   "execution_count": 8,
   "id": "f72ac432",
   "metadata": {},
   "outputs": [
    {
     "data": {
      "text/html": [
       "<div>\n",
       "<style scoped>\n",
       "    .dataframe tbody tr th:only-of-type {\n",
       "        vertical-align: middle;\n",
       "    }\n",
       "\n",
       "    .dataframe tbody tr th {\n",
       "        vertical-align: top;\n",
       "    }\n",
       "\n",
       "    .dataframe thead th {\n",
       "        text-align: right;\n",
       "    }\n",
       "</style>\n",
       "<table border=\"1\" class=\"dataframe\">\n",
       "  <thead>\n",
       "    <tr style=\"text-align: right;\">\n",
       "      <th></th>\n",
       "      <th>num_cols_missing</th>\n",
       "      <th>percent_cols_missing</th>\n",
       "      <th>index</th>\n",
       "    </tr>\n",
       "  </thead>\n",
       "  <tbody>\n",
       "    <tr>\n",
       "      <th>0</th>\n",
       "      <td>23</td>\n",
       "      <td>33.33333333333333</td>\n",
       "      <td>2</td>\n",
       "    </tr>\n",
       "    <tr>\n",
       "      <th>1</th>\n",
       "      <td>24</td>\n",
       "      <td>34.78260869565217</td>\n",
       "      <td>13</td>\n",
       "    </tr>\n",
       "    <tr>\n",
       "      <th>2</th>\n",
       "      <td>25</td>\n",
       "      <td>36.231884057971016</td>\n",
       "      <td>24</td>\n",
       "    </tr>\n",
       "    <tr>\n",
       "      <th>3</th>\n",
       "      <td>26</td>\n",
       "      <td>37.68115942028986</td>\n",
       "      <td>65</td>\n",
       "    </tr>\n",
       "    <tr>\n",
       "      <th>4</th>\n",
       "      <td>27</td>\n",
       "      <td>39.130434782608695</td>\n",
       "      <td>316</td>\n",
       "    </tr>\n",
       "    <tr>\n",
       "      <th>5</th>\n",
       "      <td>28</td>\n",
       "      <td>40.57971014492754</td>\n",
       "      <td>455</td>\n",
       "    </tr>\n",
       "    <tr>\n",
       "      <th>6</th>\n",
       "      <td>29</td>\n",
       "      <td>42.028985507246375</td>\n",
       "      <td>5270</td>\n",
       "    </tr>\n",
       "    <tr>\n",
       "      <th>7</th>\n",
       "      <td>30</td>\n",
       "      <td>43.47826086956522</td>\n",
       "      <td>3455</td>\n",
       "    </tr>\n",
       "    <tr>\n",
       "      <th>8</th>\n",
       "      <td>31</td>\n",
       "      <td>44.927536231884055</td>\n",
       "      <td>9891</td>\n",
       "    </tr>\n",
       "    <tr>\n",
       "      <th>9</th>\n",
       "      <td>32</td>\n",
       "      <td>46.3768115942029</td>\n",
       "      <td>12579</td>\n",
       "    </tr>\n",
       "    <tr>\n",
       "      <th>10</th>\n",
       "      <td>33</td>\n",
       "      <td>47.82608695652174</td>\n",
       "      <td>14782</td>\n",
       "    </tr>\n",
       "    <tr>\n",
       "      <th>11</th>\n",
       "      <td>34</td>\n",
       "      <td>49.275362318840585</td>\n",
       "      <td>13327</td>\n",
       "    </tr>\n",
       "    <tr>\n",
       "      <th>12</th>\n",
       "      <td>35</td>\n",
       "      <td>50.72463768115942</td>\n",
       "      <td>5148</td>\n",
       "    </tr>\n",
       "    <tr>\n",
       "      <th>13</th>\n",
       "      <td>36</td>\n",
       "      <td>52.17391304347826</td>\n",
       "      <td>5775</td>\n",
       "    </tr>\n",
       "    <tr>\n",
       "      <th>14</th>\n",
       "      <td>37</td>\n",
       "      <td>53.62318840579711</td>\n",
       "      <td>3620</td>\n",
       "    </tr>\n",
       "    <tr>\n",
       "      <th>15</th>\n",
       "      <td>38</td>\n",
       "      <td>55.072463768115945</td>\n",
       "      <td>1925</td>\n",
       "    </tr>\n",
       "    <tr>\n",
       "      <th>16</th>\n",
       "      <td>39</td>\n",
       "      <td>56.52173913043478</td>\n",
       "      <td>285</td>\n",
       "    </tr>\n",
       "    <tr>\n",
       "      <th>17</th>\n",
       "      <td>40</td>\n",
       "      <td>57.971014492753625</td>\n",
       "      <td>230</td>\n",
       "    </tr>\n",
       "    <tr>\n",
       "      <th>18</th>\n",
       "      <td>41</td>\n",
       "      <td>59.42028985507246</td>\n",
       "      <td>29</td>\n",
       "    </tr>\n",
       "    <tr>\n",
       "      <th>19</th>\n",
       "      <td>42</td>\n",
       "      <td>60.86956521739131</td>\n",
       "      <td>23</td>\n",
       "    </tr>\n",
       "    <tr>\n",
       "      <th>20</th>\n",
       "      <td>43</td>\n",
       "      <td>62.31884057971014</td>\n",
       "      <td>28</td>\n",
       "    </tr>\n",
       "    <tr>\n",
       "      <th>21</th>\n",
       "      <td>44</td>\n",
       "      <td>63.76811594202898</td>\n",
       "      <td>78</td>\n",
       "    </tr>\n",
       "    <tr>\n",
       "      <th>22</th>\n",
       "      <td>45</td>\n",
       "      <td>65.21739130434783</td>\n",
       "      <td>50</td>\n",
       "    </tr>\n",
       "    <tr>\n",
       "      <th>23</th>\n",
       "      <td>46</td>\n",
       "      <td>66.66666666666666</td>\n",
       "      <td>5</td>\n",
       "    </tr>\n",
       "    <tr>\n",
       "      <th>24</th>\n",
       "      <td>47</td>\n",
       "      <td>68.11594202898551</td>\n",
       "      <td>3</td>\n",
       "    </tr>\n",
       "    <tr>\n",
       "      <th>25</th>\n",
       "      <td>48</td>\n",
       "      <td>69.56521739130434</td>\n",
       "      <td>3</td>\n",
       "    </tr>\n",
       "  </tbody>\n",
       "</table>\n",
       "</div>"
      ],
      "text/plain": [
       "   num_cols_missing percent_cols_missing  index\n",
       "0                23    33.33333333333333      2\n",
       "1                24    34.78260869565217     13\n",
       "2                25   36.231884057971016     24\n",
       "3                26    37.68115942028986     65\n",
       "4                27   39.130434782608695    316\n",
       "5                28    40.57971014492754    455\n",
       "6                29   42.028985507246375   5270\n",
       "7                30    43.47826086956522   3455\n",
       "8                31   44.927536231884055   9891\n",
       "9                32     46.3768115942029  12579\n",
       "10               33    47.82608695652174  14782\n",
       "11               34   49.275362318840585  13327\n",
       "12               35    50.72463768115942   5148\n",
       "13               36    52.17391304347826   5775\n",
       "14               37    53.62318840579711   3620\n",
       "15               38   55.072463768115945   1925\n",
       "16               39    56.52173913043478    285\n",
       "17               40   57.971014492753625    230\n",
       "18               41    59.42028985507246     29\n",
       "19               42    60.86956521739131     23\n",
       "20               43    62.31884057971014     28\n",
       "21               44    63.76811594202898     78\n",
       "22               45    65.21739130434783     50\n",
       "23               46    66.66666666666666      5\n",
       "24               47    68.11594202898551      3\n",
       "25               48    69.56521739130434      3"
      ]
     },
     "execution_count": 8,
     "metadata": {},
     "output_type": "execute_result"
    }
   ],
   "source": [
    "acquire.nulls_by_row(df)"
   ]
  },
  {
   "cell_type": "code",
   "execution_count": 9,
   "id": "c8f786f5",
   "metadata": {},
   "outputs": [
    {
     "data": {
      "text/html": [
       "<div>\n",
       "<style scoped>\n",
       "    .dataframe tbody tr th:only-of-type {\n",
       "        vertical-align: middle;\n",
       "    }\n",
       "\n",
       "    .dataframe tbody tr th {\n",
       "        vertical-align: top;\n",
       "    }\n",
       "\n",
       "    .dataframe thead th {\n",
       "        text-align: right;\n",
       "    }\n",
       "</style>\n",
       "<table border=\"1\" class=\"dataframe\">\n",
       "  <thead>\n",
       "    <tr style=\"text-align: right;\">\n",
       "      <th></th>\n",
       "      <th>num_rows_missing</th>\n",
       "      <th>percent_rows_missing</th>\n",
       "    </tr>\n",
       "  </thead>\n",
       "  <tbody>\n",
       "    <tr>\n",
       "      <th>parcelid</th>\n",
       "      <td>0</td>\n",
       "      <td>0.000000</td>\n",
       "    </tr>\n",
       "    <tr>\n",
       "      <th>typeconstructiontypeid</th>\n",
       "      <td>77159</td>\n",
       "      <td>99.713108</td>\n",
       "    </tr>\n",
       "    <tr>\n",
       "      <th>storytypeid</th>\n",
       "      <td>77331</td>\n",
       "      <td>99.935385</td>\n",
       "    </tr>\n",
       "    <tr>\n",
       "      <th>propertylandusetypeid</th>\n",
       "      <td>0</td>\n",
       "      <td>0.000000</td>\n",
       "    </tr>\n",
       "    <tr>\n",
       "      <th>heatingorsystemtypeid</th>\n",
       "      <td>27941</td>\n",
       "      <td>36.108347</td>\n",
       "    </tr>\n",
       "    <tr>\n",
       "      <th>...</th>\n",
       "      <td>...</td>\n",
       "      <td>...</td>\n",
       "    </tr>\n",
       "    <tr>\n",
       "      <th>logerror</th>\n",
       "      <td>0</td>\n",
       "      <td>0.000000</td>\n",
       "    </tr>\n",
       "    <tr>\n",
       "      <th>transactiondate</th>\n",
       "      <td>0</td>\n",
       "      <td>0.000000</td>\n",
       "    </tr>\n",
       "    <tr>\n",
       "      <th>propertylandusedesc</th>\n",
       "      <td>0</td>\n",
       "      <td>0.000000</td>\n",
       "    </tr>\n",
       "    <tr>\n",
       "      <th>storydesc</th>\n",
       "      <td>77331</td>\n",
       "      <td>99.935385</td>\n",
       "    </tr>\n",
       "    <tr>\n",
       "      <th>typeconstructiondesc</th>\n",
       "      <td>77159</td>\n",
       "      <td>99.713108</td>\n",
       "    </tr>\n",
       "  </tbody>\n",
       "</table>\n",
       "<p>69 rows × 2 columns</p>\n",
       "</div>"
      ],
      "text/plain": [
       "                        num_rows_missing  percent_rows_missing\n",
       "parcelid                               0              0.000000\n",
       "typeconstructiontypeid             77159             99.713108\n",
       "storytypeid                        77331             99.935385\n",
       "propertylandusetypeid                  0              0.000000\n",
       "heatingorsystemtypeid              27941             36.108347\n",
       "...                                  ...                   ...\n",
       "logerror                               0              0.000000\n",
       "transactiondate                        0              0.000000\n",
       "propertylandusedesc                    0              0.000000\n",
       "storydesc                          77331             99.935385\n",
       "typeconstructiondesc               77159             99.713108\n",
       "\n",
       "[69 rows x 2 columns]"
      ]
     },
     "execution_count": 9,
     "metadata": {},
     "output_type": "execute_result"
    }
   ],
   "source": [
    "acquire.nulls_by_col(df)"
   ]
  },
  {
   "cell_type": "markdown",
   "id": "0d8127c7",
   "metadata": {},
   "source": [
    "### Prepare\n",
    "Remove any properties that are likely to be something other than single unit properties. (e.g. no duplexes, no land/lot, ...). There are multiple ways to estimate that a property is a single unit, and there is not a single \"right\" answer. But for this exercise, do not purely filter by unitcnt as we did previously. Add some new logic that will reduce the number of properties that are falsely removed. You might want to use # bedrooms, square feet, unit type or the like to then identify those with unitcnt not defined.\n",
    "\n",
    "Create a function that will drop rows or columns based on the percent of values that are missing: handle_missing_values(df, prop_required_column, prop_required_row)."
   ]
  },
  {
   "cell_type": "code",
   "execution_count": 10,
   "id": "357c384a",
   "metadata": {},
   "outputs": [
    {
     "data": {
      "text/html": [
       "<div>\n",
       "<style scoped>\n",
       "    .dataframe tbody tr th:only-of-type {\n",
       "        vertical-align: middle;\n",
       "    }\n",
       "\n",
       "    .dataframe tbody tr th {\n",
       "        vertical-align: top;\n",
       "    }\n",
       "\n",
       "    .dataframe thead th {\n",
       "        text-align: right;\n",
       "    }\n",
       "</style>\n",
       "<table border=\"1\" class=\"dataframe\">\n",
       "  <thead>\n",
       "    <tr style=\"text-align: right;\">\n",
       "      <th></th>\n",
       "      <th>parcelid</th>\n",
       "      <th>propertylandusetypeid</th>\n",
       "      <th>heatingorsystemtypeid</th>\n",
       "      <th>id</th>\n",
       "      <th>bathroomcnt</th>\n",
       "      <th>bedroomcnt</th>\n",
       "      <th>buildingqualitytypeid</th>\n",
       "      <th>calculatedbathnbr</th>\n",
       "      <th>calculatedfinishedsquarefeet</th>\n",
       "      <th>finishedsquarefeet12</th>\n",
       "      <th>...</th>\n",
       "      <th>taxvaluedollarcnt</th>\n",
       "      <th>assessmentyear</th>\n",
       "      <th>landtaxvaluedollarcnt</th>\n",
       "      <th>taxamount</th>\n",
       "      <th>censustractandblock</th>\n",
       "      <th>heatingorsystemdesc</th>\n",
       "      <th>id</th>\n",
       "      <th>logerror</th>\n",
       "      <th>transactiondate</th>\n",
       "      <th>propertylandusedesc</th>\n",
       "    </tr>\n",
       "  </thead>\n",
       "  <tbody>\n",
       "    <tr>\n",
       "      <th>0</th>\n",
       "      <td>14297519</td>\n",
       "      <td>261.0</td>\n",
       "      <td>NaN</td>\n",
       "      <td>1727539</td>\n",
       "      <td>3.5</td>\n",
       "      <td>4.0</td>\n",
       "      <td>NaN</td>\n",
       "      <td>3.5</td>\n",
       "      <td>3100.0</td>\n",
       "      <td>3100.0</td>\n",
       "      <td>...</td>\n",
       "      <td>1023282.0</td>\n",
       "      <td>2016.0</td>\n",
       "      <td>537569.0</td>\n",
       "      <td>11013.72</td>\n",
       "      <td>6.059063e+13</td>\n",
       "      <td>None</td>\n",
       "      <td>0</td>\n",
       "      <td>0.025595</td>\n",
       "      <td>2017-01-01</td>\n",
       "      <td>Single Family Residential</td>\n",
       "    </tr>\n",
       "    <tr>\n",
       "      <th>1</th>\n",
       "      <td>17052889</td>\n",
       "      <td>261.0</td>\n",
       "      <td>NaN</td>\n",
       "      <td>1387261</td>\n",
       "      <td>1.0</td>\n",
       "      <td>2.0</td>\n",
       "      <td>NaN</td>\n",
       "      <td>1.0</td>\n",
       "      <td>1465.0</td>\n",
       "      <td>1465.0</td>\n",
       "      <td>...</td>\n",
       "      <td>464000.0</td>\n",
       "      <td>2016.0</td>\n",
       "      <td>376000.0</td>\n",
       "      <td>5672.48</td>\n",
       "      <td>6.111001e+13</td>\n",
       "      <td>None</td>\n",
       "      <td>1</td>\n",
       "      <td>0.055619</td>\n",
       "      <td>2017-01-01</td>\n",
       "      <td>Single Family Residential</td>\n",
       "    </tr>\n",
       "    <tr>\n",
       "      <th>2</th>\n",
       "      <td>14186244</td>\n",
       "      <td>261.0</td>\n",
       "      <td>NaN</td>\n",
       "      <td>11677</td>\n",
       "      <td>2.0</td>\n",
       "      <td>3.0</td>\n",
       "      <td>NaN</td>\n",
       "      <td>2.0</td>\n",
       "      <td>1243.0</td>\n",
       "      <td>1243.0</td>\n",
       "      <td>...</td>\n",
       "      <td>564778.0</td>\n",
       "      <td>2016.0</td>\n",
       "      <td>479489.0</td>\n",
       "      <td>6488.30</td>\n",
       "      <td>6.059022e+13</td>\n",
       "      <td>None</td>\n",
       "      <td>2</td>\n",
       "      <td>0.005383</td>\n",
       "      <td>2017-01-01</td>\n",
       "      <td>Single Family Residential</td>\n",
       "    </tr>\n",
       "    <tr>\n",
       "      <th>3</th>\n",
       "      <td>12177905</td>\n",
       "      <td>261.0</td>\n",
       "      <td>2.0</td>\n",
       "      <td>2288172</td>\n",
       "      <td>3.0</td>\n",
       "      <td>4.0</td>\n",
       "      <td>8.0</td>\n",
       "      <td>3.0</td>\n",
       "      <td>2376.0</td>\n",
       "      <td>2376.0</td>\n",
       "      <td>...</td>\n",
       "      <td>145143.0</td>\n",
       "      <td>2016.0</td>\n",
       "      <td>36225.0</td>\n",
       "      <td>1777.51</td>\n",
       "      <td>6.037300e+13</td>\n",
       "      <td>Central</td>\n",
       "      <td>3</td>\n",
       "      <td>-0.103410</td>\n",
       "      <td>2017-01-01</td>\n",
       "      <td>Single Family Residential</td>\n",
       "    </tr>\n",
       "    <tr>\n",
       "      <th>4</th>\n",
       "      <td>10887214</td>\n",
       "      <td>266.0</td>\n",
       "      <td>2.0</td>\n",
       "      <td>1970746</td>\n",
       "      <td>3.0</td>\n",
       "      <td>3.0</td>\n",
       "      <td>8.0</td>\n",
       "      <td>3.0</td>\n",
       "      <td>1312.0</td>\n",
       "      <td>1312.0</td>\n",
       "      <td>...</td>\n",
       "      <td>119407.0</td>\n",
       "      <td>2016.0</td>\n",
       "      <td>45726.0</td>\n",
       "      <td>1533.89</td>\n",
       "      <td>6.037124e+13</td>\n",
       "      <td>Central</td>\n",
       "      <td>4</td>\n",
       "      <td>0.006940</td>\n",
       "      <td>2017-01-01</td>\n",
       "      <td>Condominium</td>\n",
       "    </tr>\n",
       "    <tr>\n",
       "      <th>...</th>\n",
       "      <td>...</td>\n",
       "      <td>...</td>\n",
       "      <td>...</td>\n",
       "      <td>...</td>\n",
       "      <td>...</td>\n",
       "      <td>...</td>\n",
       "      <td>...</td>\n",
       "      <td>...</td>\n",
       "      <td>...</td>\n",
       "      <td>...</td>\n",
       "      <td>...</td>\n",
       "      <td>...</td>\n",
       "      <td>...</td>\n",
       "      <td>...</td>\n",
       "      <td>...</td>\n",
       "      <td>...</td>\n",
       "      <td>...</td>\n",
       "      <td>...</td>\n",
       "      <td>...</td>\n",
       "      <td>...</td>\n",
       "      <td>...</td>\n",
       "    </tr>\n",
       "    <tr>\n",
       "      <th>77574</th>\n",
       "      <td>10833991</td>\n",
       "      <td>266.0</td>\n",
       "      <td>2.0</td>\n",
       "      <td>2864704</td>\n",
       "      <td>3.0</td>\n",
       "      <td>3.0</td>\n",
       "      <td>8.0</td>\n",
       "      <td>3.0</td>\n",
       "      <td>1741.0</td>\n",
       "      <td>1741.0</td>\n",
       "      <td>...</td>\n",
       "      <td>379000.0</td>\n",
       "      <td>2016.0</td>\n",
       "      <td>114000.0</td>\n",
       "      <td>4685.34</td>\n",
       "      <td>6.037132e+13</td>\n",
       "      <td>Central</td>\n",
       "      <td>77608</td>\n",
       "      <td>-0.002245</td>\n",
       "      <td>2017-09-20</td>\n",
       "      <td>Condominium</td>\n",
       "    </tr>\n",
       "    <tr>\n",
       "      <th>77575</th>\n",
       "      <td>11000655</td>\n",
       "      <td>261.0</td>\n",
       "      <td>2.0</td>\n",
       "      <td>673515</td>\n",
       "      <td>2.0</td>\n",
       "      <td>2.0</td>\n",
       "      <td>6.0</td>\n",
       "      <td>2.0</td>\n",
       "      <td>1286.0</td>\n",
       "      <td>1286.0</td>\n",
       "      <td>...</td>\n",
       "      <td>354621.0</td>\n",
       "      <td>2016.0</td>\n",
       "      <td>283704.0</td>\n",
       "      <td>4478.43</td>\n",
       "      <td>6.037101e+13</td>\n",
       "      <td>Central</td>\n",
       "      <td>77609</td>\n",
       "      <td>0.020615</td>\n",
       "      <td>2017-09-20</td>\n",
       "      <td>Single Family Residential</td>\n",
       "    </tr>\n",
       "    <tr>\n",
       "      <th>77577</th>\n",
       "      <td>12773139</td>\n",
       "      <td>261.0</td>\n",
       "      <td>2.0</td>\n",
       "      <td>1843709</td>\n",
       "      <td>1.0</td>\n",
       "      <td>3.0</td>\n",
       "      <td>4.0</td>\n",
       "      <td>1.0</td>\n",
       "      <td>1032.0</td>\n",
       "      <td>1032.0</td>\n",
       "      <td>...</td>\n",
       "      <td>49546.0</td>\n",
       "      <td>2016.0</td>\n",
       "      <td>16749.0</td>\n",
       "      <td>876.43</td>\n",
       "      <td>6.037434e+13</td>\n",
       "      <td>Central</td>\n",
       "      <td>77611</td>\n",
       "      <td>0.037129</td>\n",
       "      <td>2017-09-21</td>\n",
       "      <td>Single Family Residential</td>\n",
       "    </tr>\n",
       "    <tr>\n",
       "      <th>77576</th>\n",
       "      <td>17239384</td>\n",
       "      <td>261.0</td>\n",
       "      <td>NaN</td>\n",
       "      <td>2968375</td>\n",
       "      <td>2.0</td>\n",
       "      <td>4.0</td>\n",
       "      <td>NaN</td>\n",
       "      <td>2.0</td>\n",
       "      <td>1612.0</td>\n",
       "      <td>1612.0</td>\n",
       "      <td>...</td>\n",
       "      <td>67205.0</td>\n",
       "      <td>2016.0</td>\n",
       "      <td>16522.0</td>\n",
       "      <td>1107.48</td>\n",
       "      <td>6.111008e+13</td>\n",
       "      <td>None</td>\n",
       "      <td>77610</td>\n",
       "      <td>0.013209</td>\n",
       "      <td>2017-09-21</td>\n",
       "      <td>Single Family Residential</td>\n",
       "    </tr>\n",
       "    <tr>\n",
       "      <th>77578</th>\n",
       "      <td>12826780</td>\n",
       "      <td>261.0</td>\n",
       "      <td>2.0</td>\n",
       "      <td>1187175</td>\n",
       "      <td>2.0</td>\n",
       "      <td>3.0</td>\n",
       "      <td>6.0</td>\n",
       "      <td>2.0</td>\n",
       "      <td>1762.0</td>\n",
       "      <td>1762.0</td>\n",
       "      <td>...</td>\n",
       "      <td>522000.0</td>\n",
       "      <td>2016.0</td>\n",
       "      <td>382000.0</td>\n",
       "      <td>6317.15</td>\n",
       "      <td>6.037503e+13</td>\n",
       "      <td>Central</td>\n",
       "      <td>77612</td>\n",
       "      <td>0.007204</td>\n",
       "      <td>2017-09-25</td>\n",
       "      <td>Single Family Residential</td>\n",
       "    </tr>\n",
       "  </tbody>\n",
       "</table>\n",
       "<p>77226 rows × 35 columns</p>\n",
       "</div>"
      ],
      "text/plain": [
       "       parcelid  propertylandusetypeid  heatingorsystemtypeid       id  \\\n",
       "0      14297519                  261.0                    NaN  1727539   \n",
       "1      17052889                  261.0                    NaN  1387261   \n",
       "2      14186244                  261.0                    NaN    11677   \n",
       "3      12177905                  261.0                    2.0  2288172   \n",
       "4      10887214                  266.0                    2.0  1970746   \n",
       "...         ...                    ...                    ...      ...   \n",
       "77574  10833991                  266.0                    2.0  2864704   \n",
       "77575  11000655                  261.0                    2.0   673515   \n",
       "77577  12773139                  261.0                    2.0  1843709   \n",
       "77576  17239384                  261.0                    NaN  2968375   \n",
       "77578  12826780                  261.0                    2.0  1187175   \n",
       "\n",
       "       bathroomcnt  bedroomcnt  buildingqualitytypeid  calculatedbathnbr  \\\n",
       "0              3.5         4.0                    NaN                3.5   \n",
       "1              1.0         2.0                    NaN                1.0   \n",
       "2              2.0         3.0                    NaN                2.0   \n",
       "3              3.0         4.0                    8.0                3.0   \n",
       "4              3.0         3.0                    8.0                3.0   \n",
       "...            ...         ...                    ...                ...   \n",
       "77574          3.0         3.0                    8.0                3.0   \n",
       "77575          2.0         2.0                    6.0                2.0   \n",
       "77577          1.0         3.0                    4.0                1.0   \n",
       "77576          2.0         4.0                    NaN                2.0   \n",
       "77578          2.0         3.0                    6.0                2.0   \n",
       "\n",
       "       calculatedfinishedsquarefeet  finishedsquarefeet12  ...  \\\n",
       "0                            3100.0                3100.0  ...   \n",
       "1                            1465.0                1465.0  ...   \n",
       "2                            1243.0                1243.0  ...   \n",
       "3                            2376.0                2376.0  ...   \n",
       "4                            1312.0                1312.0  ...   \n",
       "...                             ...                   ...  ...   \n",
       "77574                        1741.0                1741.0  ...   \n",
       "77575                        1286.0                1286.0  ...   \n",
       "77577                        1032.0                1032.0  ...   \n",
       "77576                        1612.0                1612.0  ...   \n",
       "77578                        1762.0                1762.0  ...   \n",
       "\n",
       "       taxvaluedollarcnt  assessmentyear  landtaxvaluedollarcnt  taxamount  \\\n",
       "0              1023282.0          2016.0               537569.0   11013.72   \n",
       "1               464000.0          2016.0               376000.0    5672.48   \n",
       "2               564778.0          2016.0               479489.0    6488.30   \n",
       "3               145143.0          2016.0                36225.0    1777.51   \n",
       "4               119407.0          2016.0                45726.0    1533.89   \n",
       "...                  ...             ...                    ...        ...   \n",
       "77574           379000.0          2016.0               114000.0    4685.34   \n",
       "77575           354621.0          2016.0               283704.0    4478.43   \n",
       "77577            49546.0          2016.0                16749.0     876.43   \n",
       "77576            67205.0          2016.0                16522.0    1107.48   \n",
       "77578           522000.0          2016.0               382000.0    6317.15   \n",
       "\n",
       "       censustractandblock heatingorsystemdesc     id  logerror  \\\n",
       "0             6.059063e+13                None      0  0.025595   \n",
       "1             6.111001e+13                None      1  0.055619   \n",
       "2             6.059022e+13                None      2  0.005383   \n",
       "3             6.037300e+13             Central      3 -0.103410   \n",
       "4             6.037124e+13             Central      4  0.006940   \n",
       "...                    ...                 ...    ...       ...   \n",
       "77574         6.037132e+13             Central  77608 -0.002245   \n",
       "77575         6.037101e+13             Central  77609  0.020615   \n",
       "77577         6.037434e+13             Central  77611  0.037129   \n",
       "77576         6.111008e+13                None  77610  0.013209   \n",
       "77578         6.037503e+13             Central  77612  0.007204   \n",
       "\n",
       "       transactiondate        propertylandusedesc  \n",
       "0           2017-01-01  Single Family Residential  \n",
       "1           2017-01-01  Single Family Residential  \n",
       "2           2017-01-01  Single Family Residential  \n",
       "3           2017-01-01  Single Family Residential  \n",
       "4           2017-01-01                Condominium  \n",
       "...                ...                        ...  \n",
       "77574       2017-09-20                Condominium  \n",
       "77575       2017-09-20  Single Family Residential  \n",
       "77577       2017-09-21  Single Family Residential  \n",
       "77576       2017-09-21  Single Family Residential  \n",
       "77578       2017-09-25  Single Family Residential  \n",
       "\n",
       "[77226 rows x 35 columns]"
      ]
     },
     "execution_count": 10,
     "metadata": {},
     "output_type": "execute_result"
    }
   ],
   "source": [
    "acquire.handle_missing_values(df, prop_required_columns=0.5, prop_required_row=0.75)"
   ]
  },
  {
   "cell_type": "code",
   "execution_count": 11,
   "id": "9ed6b994",
   "metadata": {},
   "outputs": [
    {
     "data": {
      "text/plain": [
       "parcelid                      0\n",
       "typeconstructiontypeid    77159\n",
       "storytypeid               77331\n",
       "propertylandusetypeid         0\n",
       "heatingorsystemtypeid     27941\n",
       "                          ...  \n",
       "logerror                      0\n",
       "transactiondate               0\n",
       "propertylandusedesc           0\n",
       "storydesc                 77331\n",
       "typeconstructiondesc      77159\n",
       "Length: 69, dtype: int64"
      ]
     },
     "execution_count": 11,
     "metadata": {},
     "output_type": "execute_result"
    }
   ],
   "source": [
    "df.isna().sum()"
   ]
  },
  {
   "cell_type": "code",
   "execution_count": 12,
   "id": "b1a941bd",
   "metadata": {},
   "outputs": [
    {
     "data": {
      "text/plain": [
       "Single Family Residential                     52320\n",
       "Condominium                                   19294\n",
       "Duplex (2 Units, Any Combination)              2009\n",
       "Planned Unit Development                       1944\n",
       "Quadruplex (4 Units, Any Combination)           727\n",
       "Triplex (3 Units, Any Combination)              535\n",
       "Cluster Home                                    333\n",
       "Mobile Home                                      74\n",
       "Manufactured, Modular, Prefabricated Homes       58\n",
       "Residential General                              37\n",
       "Cooperative                                      29\n",
       "Commercial/Office/Residential Mixed Used         15\n",
       "Townhouse                                         6\n",
       "Name: propertylandusedesc, dtype: int64"
      ]
     },
     "execution_count": 12,
     "metadata": {},
     "output_type": "execute_result"
    }
   ],
   "source": [
    "df.propertylandusedesc.value_counts()"
   ]
  },
  {
   "cell_type": "code",
   "execution_count": 13,
   "id": "4a3da6c6",
   "metadata": {},
   "outputs": [
    {
     "data": {
      "text/plain": [
       "261.0    52320\n",
       "266.0    19294\n",
       "246.0     2009\n",
       "269.0     1944\n",
       "248.0      727\n",
       "247.0      535\n",
       "265.0      333\n",
       "263.0       74\n",
       "275.0       58\n",
       "260.0       37\n",
       "267.0       29\n",
       "31.0        15\n",
       "264.0        6\n",
       "Name: propertylandusetypeid, dtype: int64"
      ]
     },
     "execution_count": 13,
     "metadata": {},
     "output_type": "execute_result"
    }
   ],
   "source": [
    "df.propertylandusetypeid.value_counts()"
   ]
  },
  {
   "cell_type": "markdown",
   "id": "3e4ae110",
   "metadata": {},
   "source": [
    "Decide how to handle the remaining missing values: \n",
    "(Suggestions below)\n",
    "    \n",
    "   - Fill with constant value.\n",
    "   - Impute with mean, median, mode.\n",
    "   - Drop row/column"
   ]
  },
  {
   "cell_type": "code",
   "execution_count": 14,
   "id": "f9689581",
   "metadata": {},
   "outputs": [
    {
     "data": {
      "text/plain": [
       "Int64Index([ 1744,  2437,  3796,  7458,  9599, 14786, 15845, 16030, 16108,\n",
       "            21970, 24665, 24663, 25121, 27606, 28391, 33133, 36355, 39386,\n",
       "            44957, 52933, 52310, 57162, 58646, 59335, 61582, 71108, 72051,\n",
       "            72830, 73921],\n",
       "           dtype='int64')"
      ]
     },
     "execution_count": 14,
     "metadata": {},
     "output_type": "execute_result"
    }
   ],
   "source": [
    "#Dropping any property type that is not for a single family or residential\n",
    "#Propertytypeids = 31, 246,247,248,260,267,269,275\n",
    "#Keeping 261, 263,264,265,266\n",
    "index_names = df[ df['propertylandusetypeid'] == 267].index\n",
    "index_names"
   ]
  },
  {
   "cell_type": "code",
   "execution_count": 15,
   "id": "3dec42a0",
   "metadata": {},
   "outputs": [],
   "source": [
    "df.drop(index_names, inplace = True)"
   ]
  },
  {
   "cell_type": "code",
   "execution_count": 16,
   "id": "0bf4ef7c",
   "metadata": {},
   "outputs": [
    {
     "data": {
      "text/plain": [
       "261.0    52320\n",
       "266.0    19294\n",
       "246.0     2009\n",
       "269.0     1944\n",
       "248.0      727\n",
       "247.0      535\n",
       "265.0      333\n",
       "263.0       74\n",
       "275.0       58\n",
       "260.0       37\n",
       "31.0        15\n",
       "264.0        6\n",
       "Name: propertylandusetypeid, dtype: int64"
      ]
     },
     "execution_count": 16,
     "metadata": {},
     "output_type": "execute_result"
    }
   ],
   "source": [
    "df.propertylandusetypeid.value_counts()"
   ]
  },
  {
   "cell_type": "code",
   "execution_count": 17,
   "id": "06ef8688",
   "metadata": {},
   "outputs": [
    {
     "data": {
      "text/plain": [
       "Single Family Residential                     52320\n",
       "Condominium                                   19294\n",
       "Duplex (2 Units, Any Combination)              2009\n",
       "Planned Unit Development                       1944\n",
       "Quadruplex (4 Units, Any Combination)           727\n",
       "Triplex (3 Units, Any Combination)              535\n",
       "Cluster Home                                    333\n",
       "Mobile Home                                      74\n",
       "Manufactured, Modular, Prefabricated Homes       58\n",
       "Residential General                              37\n",
       "Commercial/Office/Residential Mixed Used         15\n",
       "Townhouse                                         6\n",
       "Name: propertylandusedesc, dtype: int64"
      ]
     },
     "execution_count": 17,
     "metadata": {},
     "output_type": "execute_result"
    }
   ],
   "source": [
    "df.propertylandusedesc.value_counts()"
   ]
  },
  {
   "cell_type": "code",
   "execution_count": 18,
   "id": "732a3c42",
   "metadata": {},
   "outputs": [
    {
     "data": {
      "text/plain": [
       "parcelid                      0\n",
       "typeconstructiontypeid    77130\n",
       "storytypeid               77302\n",
       "propertylandusetypeid         0\n",
       "heatingorsystemtypeid     27941\n",
       "                          ...  \n",
       "logerror                      0\n",
       "transactiondate               0\n",
       "propertylandusedesc           0\n",
       "storydesc                 77302\n",
       "typeconstructiondesc      77130\n",
       "Length: 69, dtype: int64"
      ]
     },
     "execution_count": 18,
     "metadata": {},
     "output_type": "execute_result"
    }
   ],
   "source": [
    "df.isna().sum()"
   ]
  },
  {
   "cell_type": "code",
   "execution_count": 19,
   "id": "05cab500",
   "metadata": {},
   "outputs": [
    {
     "data": {
      "text/plain": [
       "6.0     219\n",
       "4.0       1\n",
       "13.0      1\n",
       "10.0      1\n",
       "Name: typeconstructiontypeid, dtype: int64"
      ]
     },
     "execution_count": 19,
     "metadata": {},
     "output_type": "execute_result"
    }
   ],
   "source": [
    "df.typeconstructiontypeid.value_counts()"
   ]
  },
  {
   "cell_type": "code",
   "execution_count": 20,
   "id": "cfc8368e",
   "metadata": {},
   "outputs": [
    {
     "data": {
      "text/plain": [
       "Frame       219\n",
       "Metal         1\n",
       "Concrete      1\n",
       "Masonry       1\n",
       "Name: typeconstructiondesc, dtype: int64"
      ]
     },
     "execution_count": 20,
     "metadata": {},
     "output_type": "execute_result"
    }
   ],
   "source": [
    "df.typeconstructiondesc.value_counts()"
   ]
  },
  {
   "cell_type": "code",
   "execution_count": 21,
   "id": "f942ae7b",
   "metadata": {},
   "outputs": [
    {
     "data": {
      "text/plain": [
       "7.0    50\n",
       "Name: storytypeid, dtype: int64"
      ]
     },
     "execution_count": 21,
     "metadata": {},
     "output_type": "execute_result"
    }
   ],
   "source": [
    "df.storytypeid.value_counts()"
   ]
  },
  {
   "cell_type": "code",
   "execution_count": 22,
   "id": "0bad9330",
   "metadata": {},
   "outputs": [
    {
     "data": {
      "text/plain": [
       "Basement    50\n",
       "Name: storydesc, dtype: int64"
      ]
     },
     "execution_count": 22,
     "metadata": {},
     "output_type": "execute_result"
    }
   ],
   "source": [
    "df.storydesc.value_counts()"
   ]
  },
  {
   "cell_type": "code",
   "execution_count": 23,
   "id": "b34dd083",
   "metadata": {},
   "outputs": [
    {
     "data": {
      "text/plain": [
       "Central       33531\n",
       "Floor/Wall    14055\n",
       "Yes             846\n",
       "Forced air      776\n",
       "Solar           104\n",
       "None             59\n",
       "Radiant          23\n",
       "Baseboard        13\n",
       "Gravity           3\n",
       "Heat Pump         1\n",
       "Name: heatingorsystemdesc, dtype: int64"
      ]
     },
     "execution_count": 23,
     "metadata": {},
     "output_type": "execute_result"
    }
   ],
   "source": [
    "df.heatingorsystemdesc.value_counts()"
   ]
  },
  {
   "cell_type": "code",
   "execution_count": 24,
   "id": "5bb95e12",
   "metadata": {},
   "outputs": [
    {
     "data": {
      "text/plain": [
       "Frame       219\n",
       "Metal         1\n",
       "Concrete      1\n",
       "Masonry       1\n",
       "Name: typeconstructiondesc, dtype: int64"
      ]
     },
     "execution_count": 24,
     "metadata": {},
     "output_type": "execute_result"
    }
   ],
   "source": [
    "df.typeconstructiondesc.value_counts()"
   ]
  },
  {
   "cell_type": "code",
   "execution_count": 25,
   "id": "a9a648b5",
   "metadata": {},
   "outputs": [
    {
     "data": {
      "text/plain": [
       "(77352, 69)"
      ]
     },
     "execution_count": 25,
     "metadata": {},
     "output_type": "execute_result"
    }
   ],
   "source": [
    "df.shape"
   ]
  },
  {
   "cell_type": "code",
   "execution_count": 26,
   "id": "3f14e149",
   "metadata": {},
   "outputs": [
    {
     "data": {
      "text/html": [
       "<div>\n",
       "<style scoped>\n",
       "    .dataframe tbody tr th:only-of-type {\n",
       "        vertical-align: middle;\n",
       "    }\n",
       "\n",
       "    .dataframe tbody tr th {\n",
       "        vertical-align: top;\n",
       "    }\n",
       "\n",
       "    .dataframe thead th {\n",
       "        text-align: right;\n",
       "    }\n",
       "</style>\n",
       "<table border=\"1\" class=\"dataframe\">\n",
       "  <thead>\n",
       "    <tr style=\"text-align: right;\">\n",
       "      <th></th>\n",
       "      <th>num_cols_missing</th>\n",
       "      <th>percent_cols_missing</th>\n",
       "      <th>index</th>\n",
       "    </tr>\n",
       "  </thead>\n",
       "  <tbody>\n",
       "    <tr>\n",
       "      <th>0</th>\n",
       "      <td>23</td>\n",
       "      <td>33.33333333333333</td>\n",
       "      <td>2</td>\n",
       "    </tr>\n",
       "    <tr>\n",
       "      <th>1</th>\n",
       "      <td>24</td>\n",
       "      <td>34.78260869565217</td>\n",
       "      <td>13</td>\n",
       "    </tr>\n",
       "    <tr>\n",
       "      <th>2</th>\n",
       "      <td>25</td>\n",
       "      <td>36.231884057971016</td>\n",
       "      <td>24</td>\n",
       "    </tr>\n",
       "    <tr>\n",
       "      <th>3</th>\n",
       "      <td>26</td>\n",
       "      <td>37.68115942028986</td>\n",
       "      <td>65</td>\n",
       "    </tr>\n",
       "    <tr>\n",
       "      <th>4</th>\n",
       "      <td>27</td>\n",
       "      <td>39.130434782608695</td>\n",
       "      <td>316</td>\n",
       "    </tr>\n",
       "    <tr>\n",
       "      <th>5</th>\n",
       "      <td>28</td>\n",
       "      <td>40.57971014492754</td>\n",
       "      <td>455</td>\n",
       "    </tr>\n",
       "    <tr>\n",
       "      <th>6</th>\n",
       "      <td>29</td>\n",
       "      <td>42.028985507246375</td>\n",
       "      <td>5269</td>\n",
       "    </tr>\n",
       "    <tr>\n",
       "      <th>7</th>\n",
       "      <td>30</td>\n",
       "      <td>43.47826086956522</td>\n",
       "      <td>3455</td>\n",
       "    </tr>\n",
       "    <tr>\n",
       "      <th>8</th>\n",
       "      <td>31</td>\n",
       "      <td>44.927536231884055</td>\n",
       "      <td>9879</td>\n",
       "    </tr>\n",
       "    <tr>\n",
       "      <th>9</th>\n",
       "      <td>32</td>\n",
       "      <td>46.3768115942029</td>\n",
       "      <td>12577</td>\n",
       "    </tr>\n",
       "    <tr>\n",
       "      <th>10</th>\n",
       "      <td>33</td>\n",
       "      <td>47.82608695652174</td>\n",
       "      <td>14772</td>\n",
       "    </tr>\n",
       "    <tr>\n",
       "      <th>11</th>\n",
       "      <td>34</td>\n",
       "      <td>49.275362318840585</td>\n",
       "      <td>13323</td>\n",
       "    </tr>\n",
       "    <tr>\n",
       "      <th>12</th>\n",
       "      <td>35</td>\n",
       "      <td>50.72463768115942</td>\n",
       "      <td>5148</td>\n",
       "    </tr>\n",
       "    <tr>\n",
       "      <th>13</th>\n",
       "      <td>36</td>\n",
       "      <td>52.17391304347826</td>\n",
       "      <td>5775</td>\n",
       "    </tr>\n",
       "    <tr>\n",
       "      <th>14</th>\n",
       "      <td>37</td>\n",
       "      <td>53.62318840579711</td>\n",
       "      <td>3620</td>\n",
       "    </tr>\n",
       "    <tr>\n",
       "      <th>15</th>\n",
       "      <td>38</td>\n",
       "      <td>55.072463768115945</td>\n",
       "      <td>1925</td>\n",
       "    </tr>\n",
       "    <tr>\n",
       "      <th>16</th>\n",
       "      <td>39</td>\n",
       "      <td>56.52173913043478</td>\n",
       "      <td>285</td>\n",
       "    </tr>\n",
       "    <tr>\n",
       "      <th>17</th>\n",
       "      <td>40</td>\n",
       "      <td>57.971014492753625</td>\n",
       "      <td>230</td>\n",
       "    </tr>\n",
       "    <tr>\n",
       "      <th>18</th>\n",
       "      <td>41</td>\n",
       "      <td>59.42028985507246</td>\n",
       "      <td>29</td>\n",
       "    </tr>\n",
       "    <tr>\n",
       "      <th>19</th>\n",
       "      <td>42</td>\n",
       "      <td>60.86956521739131</td>\n",
       "      <td>23</td>\n",
       "    </tr>\n",
       "    <tr>\n",
       "      <th>20</th>\n",
       "      <td>43</td>\n",
       "      <td>62.31884057971014</td>\n",
       "      <td>28</td>\n",
       "    </tr>\n",
       "    <tr>\n",
       "      <th>21</th>\n",
       "      <td>44</td>\n",
       "      <td>63.76811594202898</td>\n",
       "      <td>78</td>\n",
       "    </tr>\n",
       "    <tr>\n",
       "      <th>22</th>\n",
       "      <td>45</td>\n",
       "      <td>65.21739130434783</td>\n",
       "      <td>50</td>\n",
       "    </tr>\n",
       "    <tr>\n",
       "      <th>23</th>\n",
       "      <td>46</td>\n",
       "      <td>66.66666666666666</td>\n",
       "      <td>5</td>\n",
       "    </tr>\n",
       "    <tr>\n",
       "      <th>24</th>\n",
       "      <td>47</td>\n",
       "      <td>68.11594202898551</td>\n",
       "      <td>3</td>\n",
       "    </tr>\n",
       "    <tr>\n",
       "      <th>25</th>\n",
       "      <td>48</td>\n",
       "      <td>69.56521739130434</td>\n",
       "      <td>3</td>\n",
       "    </tr>\n",
       "  </tbody>\n",
       "</table>\n",
       "</div>"
      ],
      "text/plain": [
       "   num_cols_missing percent_cols_missing  index\n",
       "0                23    33.33333333333333      2\n",
       "1                24    34.78260869565217     13\n",
       "2                25   36.231884057971016     24\n",
       "3                26    37.68115942028986     65\n",
       "4                27   39.130434782608695    316\n",
       "5                28    40.57971014492754    455\n",
       "6                29   42.028985507246375   5269\n",
       "7                30    43.47826086956522   3455\n",
       "8                31   44.927536231884055   9879\n",
       "9                32     46.3768115942029  12577\n",
       "10               33    47.82608695652174  14772\n",
       "11               34   49.275362318840585  13323\n",
       "12               35    50.72463768115942   5148\n",
       "13               36    52.17391304347826   5775\n",
       "14               37    53.62318840579711   3620\n",
       "15               38   55.072463768115945   1925\n",
       "16               39    56.52173913043478    285\n",
       "17               40   57.971014492753625    230\n",
       "18               41    59.42028985507246     29\n",
       "19               42    60.86956521739131     23\n",
       "20               43    62.31884057971014     28\n",
       "21               44    63.76811594202898     78\n",
       "22               45    65.21739130434783     50\n",
       "23               46    66.66666666666666      5\n",
       "24               47    68.11594202898551      3\n",
       "25               48    69.56521739130434      3"
      ]
     },
     "execution_count": 26,
     "metadata": {},
     "output_type": "execute_result"
    }
   ],
   "source": [
    "acquire.nulls_by_row(df)"
   ]
  },
  {
   "cell_type": "code",
   "execution_count": 27,
   "id": "7a68724d",
   "metadata": {},
   "outputs": [
    {
     "data": {
      "text/plain": [
       "77302.0    3\n",
       "77337.0    2\n",
       "609.0      2\n",
       "74467.0    2\n",
       "52407.0    2\n",
       "51878.0    2\n",
       "27941.0    2\n",
       "71329.0    2\n",
       "77130.0    2\n",
       "77146.0    2\n",
       "76966.0    1\n",
       "76888.0    1\n",
       "69076.0    1\n",
       "76485.0    1\n",
       "76278.0    1\n",
       "75814.0    1\n",
       "74964.0    1\n",
       "77180.0    1\n",
       "77282.0    1\n",
       "77311.0    1\n",
       "74343.0    1\n",
       "76738.0    1\n",
       "1.0        1\n",
       "67256.0    1\n",
       "62317.0    1\n",
       "5.0        1\n",
       "50.0       1\n",
       "112.0      1\n",
       "196.0      1\n",
       "244.0      1\n",
       "263.0      1\n",
       "1471.0     1\n",
       "3632.0     1\n",
       "8239.0     1\n",
       "26818.0    1\n",
       "27050.0    1\n",
       "27709.0    1\n",
       "46485.0    1\n",
       "59792.0    1\n",
       "2.0        1\n",
       "61222.0    1\n",
       "dtype: int64"
      ]
     },
     "execution_count": 27,
     "metadata": {},
     "output_type": "execute_result"
    }
   ],
   "source": [
    "import pandas as pd\n",
    "nulls = pd.DataFrame(df.isna().sum())\n",
    "nulls[nulls>0].value_counts()"
   ]
  },
  {
   "cell_type": "code",
   "execution_count": 28,
   "id": "9631554a",
   "metadata": {},
   "outputs": [
    {
     "data": {
      "text/plain": [
       "parcelid                      0\n",
       "typeconstructiontypeid    77130\n",
       "storytypeid               77302\n",
       "propertylandusetypeid         0\n",
       "heatingorsystemtypeid     27941\n",
       "                          ...  \n",
       "logerror                      0\n",
       "transactiondate               0\n",
       "propertylandusedesc           0\n",
       "storydesc                 77302\n",
       "typeconstructiondesc      77130\n",
       "Length: 69, dtype: int64"
      ]
     },
     "execution_count": 28,
     "metadata": {},
     "output_type": "execute_result"
    }
   ],
   "source": [
    "df.isna().sum()"
   ]
  },
  {
   "cell_type": "code",
   "execution_count": 29,
   "id": "cb5035da",
   "metadata": {},
   "outputs": [],
   "source": [
    "cols_to_remove = ['typeconstructiontypeid', 'storytypeid','storydesc','typeconstructiondesc']\n",
    "df = acquire.remove_columns(df, cols_to_remove)"
   ]
  },
  {
   "cell_type": "code",
   "execution_count": 30,
   "id": "db035dbb",
   "metadata": {},
   "outputs": [
    {
     "data": {
      "text/plain": [
       "parcelid                        0\n",
       "propertylandusetypeid           0\n",
       "heatingorsystemtypeid       27941\n",
       "buildingclasstypeid         77337\n",
       "architecturalstyletypeid    77146\n",
       "                            ...  \n",
       "heatingorsystemdesc         27941\n",
       "id                              0\n",
       "logerror                        0\n",
       "transactiondate                 0\n",
       "propertylandusedesc             0\n",
       "Length: 65, dtype: int64"
      ]
     },
     "execution_count": 30,
     "metadata": {},
     "output_type": "execute_result"
    }
   ],
   "source": [
    "df.isna().sum()"
   ]
  },
  {
   "cell_type": "code",
   "execution_count": 31,
   "id": "5078ea8a",
   "metadata": {},
   "outputs": [],
   "source": [
    "cols_to_remove = ['heatingorsystemtypeid','architecturalstyletypeid']\n",
    "df = acquire.remove_columns(df, cols_to_remove)"
   ]
  },
  {
   "cell_type": "code",
   "execution_count": 32,
   "id": "ea74ccaa",
   "metadata": {},
   "outputs": [
    {
     "data": {
      "text/plain": [
       "parcelid                     0\n",
       "propertylandusetypeid        0\n",
       "buildingclasstypeid      77337\n",
       "airconditioningtypeid    52407\n",
       "id                           0\n",
       "                         ...  \n",
       "heatingorsystemdesc      27941\n",
       "id                           0\n",
       "logerror                     0\n",
       "transactiondate              0\n",
       "propertylandusedesc          0\n",
       "Length: 63, dtype: int64"
      ]
     },
     "execution_count": 32,
     "metadata": {},
     "output_type": "execute_result"
    }
   ],
   "source": [
    "df.isna().sum()"
   ]
  },
  {
   "cell_type": "code",
   "execution_count": 33,
   "id": "a2bc65ba",
   "metadata": {},
   "outputs": [],
   "source": [
    "cols_to_remove = ['buildingclasstypeid']\n",
    "df = acquire.remove_columns(df, cols_to_remove)"
   ]
  },
  {
   "cell_type": "code",
   "execution_count": 34,
   "id": "300d7e84",
   "metadata": {},
   "outputs": [
    {
     "data": {
      "text/plain": [
       "parcelid                     0\n",
       "propertylandusetypeid        0\n",
       "airconditioningtypeid    52407\n",
       "id                           0\n",
       "basementsqft             77302\n",
       "                         ...  \n",
       "heatingorsystemdesc      27941\n",
       "id                           0\n",
       "logerror                     0\n",
       "transactiondate              0\n",
       "propertylandusedesc          0\n",
       "Length: 62, dtype: int64"
      ]
     },
     "execution_count": 34,
     "metadata": {},
     "output_type": "execute_result"
    }
   ],
   "source": [
    "df.isna().sum()"
   ]
  },
  {
   "cell_type": "code",
   "execution_count": 35,
   "id": "8a2af23c",
   "metadata": {},
   "outputs": [],
   "source": [
    "cols_to_remove = ['basementsqft']\n",
    "df = acquire.remove_columns(df, cols_to_remove)"
   ]
  },
  {
   "cell_type": "code",
   "execution_count": 36,
   "id": "5dfa0f6a",
   "metadata": {},
   "outputs": [
    {
     "data": {
      "text/plain": [
       "parcelid                     0\n",
       "propertylandusetypeid        0\n",
       "airconditioningtypeid    52407\n",
       "id                           0\n",
       "bathroomcnt                  0\n",
       "                         ...  \n",
       "heatingorsystemdesc      27941\n",
       "id                           0\n",
       "logerror                     0\n",
       "transactiondate              0\n",
       "propertylandusedesc          0\n",
       "Length: 61, dtype: int64"
      ]
     },
     "execution_count": 36,
     "metadata": {},
     "output_type": "execute_result"
    }
   ],
   "source": [
    "df.isna().sum()"
   ]
  },
  {
   "cell_type": "code",
   "execution_count": 37,
   "id": "3fc60c1e",
   "metadata": {},
   "outputs": [
    {
     "name": "stdout",
     "output_type": "stream",
     "text": [
      "-----\n",
      "airconditioningtypeid           52407\n",
      "buildingqualitytypeid           27709\n",
      "calculatedbathnbr                 609\n",
      "decktypeid                      76738\n",
      "finishedfloor1squarefeet        71329\n",
      "calculatedfinishedsquarefeet      196\n",
      "finishedsquarefeet12             3632\n",
      "finishedsquarefeet13            77311\n",
      "finishedsquarefeet15            74343\n",
      "finishedsquarefeet50            71329\n",
      "finishedsquarefeet6             76966\n",
      "fireplacecnt                    69076\n",
      "fullbathcnt                       609\n",
      "garagecarcnt                    51878\n",
      "garagetotalsqft                 51878\n",
      "hashottuborspa                  75814\n",
      "lotsizesquarefeet                8239\n",
      "poolcnt                         61222\n",
      "poolsizesum                     76485\n",
      "pooltypeid10                    76888\n",
      "pooltypeid2                     76278\n",
      "pooltypeid7                     62317\n",
      "propertyzoningdesc              27050\n",
      "regionidcity                     1471\n",
      "regionidneighborhood            46485\n",
      "regionidzip                        50\n",
      "threequarterbathnbr             67256\n",
      "unitcnt                         26818\n",
      "yardbuildingsqft17              74964\n",
      "yardbuildingsqft26              77282\n",
      "yearbuilt                         263\n",
      "numberofstories                 59792\n",
      "fireplaceflag                   77180\n",
      "structuretaxvaluedollarcnt        112\n",
      "taxvaluedollarcnt                   1\n",
      "landtaxvaluedollarcnt               2\n",
      "taxamount                           5\n",
      "taxdelinquencyflag              74467\n",
      "taxdelinquencyyear              74467\n",
      "censustractandblock               244\n",
      "airconditioningdesc             52407\n",
      "architecturalstyledesc          77146\n",
      "buildingclassdesc               77337\n",
      "heatingorsystemdesc             27941\n",
      "dtype: int64\n"
     ]
    }
   ],
   "source": [
    "missing = df.isnull().sum()\n",
    "print('-----')\n",
    "print(missing[missing > 0])"
   ]
  },
  {
   "cell_type": "code",
   "execution_count": 38,
   "id": "1cbdba60",
   "metadata": {},
   "outputs": [],
   "source": [
    "df = acquire.handle_missing_values(df, prop_required_columns=0.5, prop_required_row=0.75)"
   ]
  },
  {
   "cell_type": "code",
   "execution_count": 39,
   "id": "a1051650",
   "metadata": {},
   "outputs": [
    {
     "name": "stdout",
     "output_type": "stream",
     "text": [
      "-----\n",
      "buildingqualitytypeid           27554\n",
      "calculatedbathnbr                 454\n",
      "calculatedfinishedsquarefeet       41\n",
      "finishedsquarefeet12             3477\n",
      "fullbathcnt                       454\n",
      "lotsizesquarefeet                8157\n",
      "propertyzoningdesc              26930\n",
      "regionidcity                     1459\n",
      "regionidzip                        45\n",
      "unitcnt                         26663\n",
      "yearbuilt                         109\n",
      "structuretaxvaluedollarcnt         96\n",
      "taxvaluedollarcnt                   1\n",
      "landtaxvaluedollarcnt               1\n",
      "taxamount                           5\n",
      "censustractandblock               224\n",
      "heatingorsystemdesc             27786\n",
      "dtype: int64\n"
     ]
    }
   ],
   "source": [
    "missing = df.isnull().sum()\n",
    "print('-----')\n",
    "print(missing[missing > 0])"
   ]
  },
  {
   "cell_type": "code",
   "execution_count": 40,
   "id": "3e5e94d6",
   "metadata": {},
   "outputs": [
    {
     "data": {
      "text/plain": [
       "Central       33531\n",
       "Floor/Wall    14055\n",
       "Yes             846\n",
       "Forced air      776\n",
       "Solar           104\n",
       "None             59\n",
       "Radiant          23\n",
       "Baseboard        13\n",
       "Gravity           3\n",
       "Heat Pump         1\n",
       "Name: heatingorsystemdesc, dtype: int64"
      ]
     },
     "execution_count": 40,
     "metadata": {},
     "output_type": "execute_result"
    }
   ],
   "source": [
    "df.heatingorsystemdesc.value_counts()"
   ]
  },
  {
   "cell_type": "code",
   "execution_count": 41,
   "id": "bd58703e",
   "metadata": {},
   "outputs": [
    {
     "data": {
      "text/plain": [
       "(77197, 34)"
      ]
     },
     "execution_count": 41,
     "metadata": {},
     "output_type": "execute_result"
    }
   ],
   "source": [
    "df.shape"
   ]
  },
  {
   "cell_type": "code",
   "execution_count": 42,
   "id": "03b734ae",
   "metadata": {},
   "outputs": [],
   "source": [
    "from sklearn.impute import SimpleImputer\n",
    "imp = SimpleImputer(strategy=\"most_frequent\")"
   ]
  },
  {
   "cell_type": "code",
   "execution_count": 43,
   "id": "30c8cb24",
   "metadata": {},
   "outputs": [
    {
     "name": "stdout",
     "output_type": "stream",
     "text": [
      "<class 'pandas.core.frame.DataFrame'>\n",
      "Int64Index: 77197 entries, 0 to 77578\n",
      "Data columns (total 34 columns):\n",
      " #   Column                        Non-Null Count  Dtype  \n",
      "---  ------                        --------------  -----  \n",
      " 0   parcelid                      77197 non-null  int64  \n",
      " 1   propertylandusetypeid         77197 non-null  float64\n",
      " 2   id                            77197 non-null  int64  \n",
      " 3   bathroomcnt                   77197 non-null  float64\n",
      " 4   bedroomcnt                    77197 non-null  float64\n",
      " 5   buildingqualitytypeid         49643 non-null  float64\n",
      " 6   calculatedbathnbr             76743 non-null  float64\n",
      " 7   calculatedfinishedsquarefeet  77156 non-null  float64\n",
      " 8   finishedsquarefeet12          73720 non-null  float64\n",
      " 9   fips                          77197 non-null  float64\n",
      " 10  fullbathcnt                   76743 non-null  float64\n",
      " 11  latitude                      77197 non-null  float64\n",
      " 12  longitude                     77197 non-null  float64\n",
      " 13  lotsizesquarefeet             69040 non-null  float64\n",
      " 14  propertycountylandusecode     77197 non-null  object \n",
      " 15  propertyzoningdesc            50267 non-null  object \n",
      " 16  rawcensustractandblock        77197 non-null  float64\n",
      " 17  regionidcity                  75738 non-null  float64\n",
      " 18  regionidcounty                77197 non-null  float64\n",
      " 19  regionidzip                   77152 non-null  float64\n",
      " 20  roomcnt                       77197 non-null  float64\n",
      " 21  unitcnt                       50534 non-null  float64\n",
      " 22  yearbuilt                     77088 non-null  float64\n",
      " 23  structuretaxvaluedollarcnt    77101 non-null  float64\n",
      " 24  taxvaluedollarcnt             77196 non-null  float64\n",
      " 25  assessmentyear                77197 non-null  float64\n",
      " 26  landtaxvaluedollarcnt         77196 non-null  float64\n",
      " 27  taxamount                     77192 non-null  float64\n",
      " 28  censustractandblock           76973 non-null  float64\n",
      " 29  heatingorsystemdesc           49411 non-null  object \n",
      " 30  id                            77197 non-null  int64  \n",
      " 31  logerror                      77197 non-null  float64\n",
      " 32  transactiondate               77197 non-null  object \n",
      " 33  propertylandusedesc           77197 non-null  object \n",
      "dtypes: float64(26), int64(3), object(5)\n",
      "memory usage: 20.6+ MB\n"
     ]
    }
   ],
   "source": [
    "df.info()"
   ]
  },
  {
   "cell_type": "code",
   "execution_count": 44,
   "id": "b4de0d1e",
   "metadata": {},
   "outputs": [
    {
     "data": {
      "text/plain": [
       "array([[14297519, 261.0, 1727539, ..., 0.025594901758400002,\n",
       "        '2017-01-01', 'Single Family Residential'],\n",
       "       [17052889, 261.0, 1387261, ..., 0.0556190874015, '2017-01-01',\n",
       "        'Single Family Residential'],\n",
       "       [14186244, 261.0, 11677, ..., 0.0053828530468900005, '2017-01-01',\n",
       "        'Single Family Residential'],\n",
       "       ...,\n",
       "       [12773139, 261.0, 1843709, ..., 0.037128786701000005,\n",
       "        '2017-09-21', 'Single Family Residential'],\n",
       "       [17239384, 261.0, 2968375, ..., 0.013208613009200001,\n",
       "        '2017-09-21', 'Single Family Residential'],\n",
       "       [12826780, 261.0, 1187175, ..., 0.007203938731710001,\n",
       "        '2017-09-25', 'Single Family Residential']], dtype=object)"
      ]
     },
     "execution_count": 44,
     "metadata": {},
     "output_type": "execute_result"
    }
   ],
   "source": [
    "imp.fit_transform(df)"
   ]
  },
  {
   "cell_type": "code",
   "execution_count": 45,
   "id": "d7ab6163",
   "metadata": {},
   "outputs": [
    {
     "name": "stdout",
     "output_type": "stream",
     "text": [
      "-----\n",
      "buildingqualitytypeid           27554\n",
      "calculatedbathnbr                 454\n",
      "calculatedfinishedsquarefeet       41\n",
      "finishedsquarefeet12             3477\n",
      "fullbathcnt                       454\n",
      "lotsizesquarefeet                8157\n",
      "propertyzoningdesc              26930\n",
      "regionidcity                     1459\n",
      "regionidzip                        45\n",
      "unitcnt                         26663\n",
      "yearbuilt                         109\n",
      "structuretaxvaluedollarcnt         96\n",
      "taxvaluedollarcnt                   1\n",
      "landtaxvaluedollarcnt               1\n",
      "taxamount                           5\n",
      "censustractandblock               224\n",
      "heatingorsystemdesc             27786\n",
      "dtype: int64\n"
     ]
    }
   ],
   "source": [
    "missing = df.isnull().sum()\n",
    "print('-----')\n",
    "print(missing[missing > 0])\n"
   ]
  },
  {
   "cell_type": "code",
   "execution_count": 46,
   "id": "320ee00a",
   "metadata": {},
   "outputs": [
    {
     "data": {
      "text/plain": [
       "<bound method DataFrame.info of        parcelid  propertylandusetypeid       id  bathroomcnt  bedroomcnt  \\\n",
       "0      14297519                  261.0  1727539          3.5         4.0   \n",
       "1      17052889                  261.0  1387261          1.0         2.0   \n",
       "2      14186244                  261.0    11677          2.0         3.0   \n",
       "3      12177905                  261.0  2288172          3.0         4.0   \n",
       "4      10887214                  266.0  1970746          3.0         3.0   \n",
       "...         ...                    ...      ...          ...         ...   \n",
       "77574  10833991                  266.0  2864704          3.0         3.0   \n",
       "77575  11000655                  261.0   673515          2.0         2.0   \n",
       "77577  12773139                  261.0  1843709          1.0         3.0   \n",
       "77576  17239384                  261.0  2968375          2.0         4.0   \n",
       "77578  12826780                  261.0  1187175          2.0         3.0   \n",
       "\n",
       "       buildingqualitytypeid  calculatedbathnbr  calculatedfinishedsquarefeet  \\\n",
       "0                        NaN                3.5                        3100.0   \n",
       "1                        NaN                1.0                        1465.0   \n",
       "2                        NaN                2.0                        1243.0   \n",
       "3                        8.0                3.0                        2376.0   \n",
       "4                        8.0                3.0                        1312.0   \n",
       "...                      ...                ...                           ...   \n",
       "77574                    8.0                3.0                        1741.0   \n",
       "77575                    6.0                2.0                        1286.0   \n",
       "77577                    4.0                1.0                        1032.0   \n",
       "77576                    NaN                2.0                        1612.0   \n",
       "77578                    6.0                2.0                        1762.0   \n",
       "\n",
       "       finishedsquarefeet12    fips  ...  taxvaluedollarcnt  assessmentyear  \\\n",
       "0                    3100.0  6059.0  ...          1023282.0          2016.0   \n",
       "1                    1465.0  6111.0  ...           464000.0          2016.0   \n",
       "2                    1243.0  6059.0  ...           564778.0          2016.0   \n",
       "3                    2376.0  6037.0  ...           145143.0          2016.0   \n",
       "4                    1312.0  6037.0  ...           119407.0          2016.0   \n",
       "...                     ...     ...  ...                ...             ...   \n",
       "77574                1741.0  6037.0  ...           379000.0          2016.0   \n",
       "77575                1286.0  6037.0  ...           354621.0          2016.0   \n",
       "77577                1032.0  6037.0  ...            49546.0          2016.0   \n",
       "77576                1612.0  6111.0  ...            67205.0          2016.0   \n",
       "77578                1762.0  6037.0  ...           522000.0          2016.0   \n",
       "\n",
       "       landtaxvaluedollarcnt  taxamount censustractandblock  \\\n",
       "0                   537569.0   11013.72        6.059063e+13   \n",
       "1                   376000.0    5672.48        6.111001e+13   \n",
       "2                   479489.0    6488.30        6.059022e+13   \n",
       "3                    36225.0    1777.51        6.037300e+13   \n",
       "4                    45726.0    1533.89        6.037124e+13   \n",
       "...                      ...        ...                 ...   \n",
       "77574               114000.0    4685.34        6.037132e+13   \n",
       "77575               283704.0    4478.43        6.037101e+13   \n",
       "77577                16749.0     876.43        6.037434e+13   \n",
       "77576                16522.0    1107.48        6.111008e+13   \n",
       "77578               382000.0    6317.15        6.037503e+13   \n",
       "\n",
       "      heatingorsystemdesc     id  logerror  transactiondate  \\\n",
       "0                    None      0  0.025595       2017-01-01   \n",
       "1                    None      1  0.055619       2017-01-01   \n",
       "2                    None      2  0.005383       2017-01-01   \n",
       "3                 Central      3 -0.103410       2017-01-01   \n",
       "4                 Central      4  0.006940       2017-01-01   \n",
       "...                   ...    ...       ...              ...   \n",
       "77574             Central  77608 -0.002245       2017-09-20   \n",
       "77575             Central  77609  0.020615       2017-09-20   \n",
       "77577             Central  77611  0.037129       2017-09-21   \n",
       "77576                None  77610  0.013209       2017-09-21   \n",
       "77578             Central  77612  0.007204       2017-09-25   \n",
       "\n",
       "             propertylandusedesc  \n",
       "0      Single Family Residential  \n",
       "1      Single Family Residential  \n",
       "2      Single Family Residential  \n",
       "3      Single Family Residential  \n",
       "4                    Condominium  \n",
       "...                          ...  \n",
       "77574                Condominium  \n",
       "77575  Single Family Residential  \n",
       "77577  Single Family Residential  \n",
       "77576  Single Family Residential  \n",
       "77578  Single Family Residential  \n",
       "\n",
       "[77197 rows x 34 columns]>"
      ]
     },
     "execution_count": 46,
     "metadata": {},
     "output_type": "execute_result"
    }
   ],
   "source": [
    "df.info"
   ]
  },
  {
   "cell_type": "code",
   "execution_count": 49,
   "id": "a7454bdd",
   "metadata": {},
   "outputs": [
    {
     "data": {
      "text/plain": [
       "(77197, 34)"
      ]
     },
     "execution_count": 49,
     "metadata": {},
     "output_type": "execute_result"
    }
   ],
   "source": [
    "df.shape"
   ]
  },
  {
   "cell_type": "code",
   "execution_count": null,
   "id": "15613c36",
   "metadata": {},
   "outputs": [],
   "source": []
  }
 ],
 "metadata": {
  "kernelspec": {
   "display_name": "Python 3",
   "language": "python",
   "name": "python3"
  },
  "language_info": {
   "codemirror_mode": {
    "name": "ipython",
    "version": 3
   },
   "file_extension": ".py",
   "mimetype": "text/x-python",
   "name": "python",
   "nbconvert_exporter": "python",
   "pygments_lexer": "ipython3",
   "version": "3.8.8"
  }
 },
 "nbformat": 4,
 "nbformat_minor": 5
}
