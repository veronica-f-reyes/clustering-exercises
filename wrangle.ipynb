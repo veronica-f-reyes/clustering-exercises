{
 "cells": [
  {
   "cell_type": "markdown",
   "metadata": {},
   "source": [
    "# Data Wrangling: Acquisition & Preparation\n",
    "\n",
    "In this lesson, we'll be acquiring and preparing some data from our SQL database.\n",
    "\n",
    "## Learning Goals:"
   ]
  },
  {
   "cell_type": "markdown",
   "metadata": {
    "tags": []
   },
   "source": [
    "    \n",
    "- Acquire a sample of data from SQL.\n",
    "- Identify null values, which nulls are 'deal-breakers', i.e. rows removed, which nulls should be represented by 0, and which should be replaced by a value from other methods, such as mean.\t\t\n",
    "- Identify outliers and decide what to do with them, if anything (remove, keep as-is, replace).\n",
    "- Data Structure: Aggregate as needed so that every row is an observation and each column is a variable (1 variable and not a measure). "
   ]
  },
  {
   "cell_type": "code",
   "execution_count": 37,
   "metadata": {
    "tags": []
   },
   "outputs": [],
   "source": [
    "# regular imports\n",
    "\n",
    "import numpy as np\n",
    "import pandas as pd\n",
    "import matplotlib.pyplot as plt\n",
    "import seaborn as sns\n",
    "import scipy.stats as stats\n",
    "import env\n",
    "# from acquire import get_mallcustomer_data()"
   ]
  },
  {
   "cell_type": "code",
   "execution_count": 39,
   "metadata": {
    "tags": []
   },
   "outputs": [],
   "source": [
    "# from our acquire.py:\n",
    "def get_connection(db, user=env.user, host=env.host, password=env.password):\n",
    "    return f'mysql+pymysql://{user}:{password}@{host}/{db}'\n",
    "    \n",
    "def get_mallcustomer_data():\n",
    "    df = pd.read_sql('SELECT * FROM customers;', get_connection('mall_customers'))\n",
    "    return df.set_index('customer_id')"
   ]
  },
  {
   "cell_type": "code",
   "execution_count": 40,
   "metadata": {},
   "outputs": [],
   "source": [
    "# acquire our dataframe"
   ]
  },
  {
   "cell_type": "code",
   "execution_count": 41,
   "metadata": {},
   "outputs": [],
   "source": [
    "df = get_mallcustomer_data()"
   ]
  },
  {
   "cell_type": "code",
   "execution_count": 42,
   "metadata": {},
   "outputs": [
    {
     "data": {
      "text/plain": [
       "pandas.core.frame.DataFrame"
      ]
     },
     "execution_count": 42,
     "metadata": {},
     "output_type": "execute_result"
    }
   ],
   "source": [
    "type(df)"
   ]
  },
  {
   "cell_type": "markdown",
   "metadata": {},
   "source": [
    "### Acquire & Summarize"
   ]
  },
  {
   "cell_type": "code",
   "execution_count": 43,
   "metadata": {},
   "outputs": [],
   "source": [
    "# How do we get a summarization of our data?"
   ]
  },
  {
   "cell_type": "code",
   "execution_count": 44,
   "metadata": {
    "tags": []
   },
   "outputs": [],
   "source": [
    "# summary of data:\n",
    "# .head()\n",
    "# .info()\n",
    "# .describe()\n",
    "# value_counts() *spread of data\n",
    "# observe nulls in the dataframe\n",
    "#      deal with nulls accordingly:\n",
    "#      -fillna(0)\n",
    "#      -fillna(value/mean/mode)//sklearn.imputer(only after split)\n",
    "#      -drop"
   ]
  },
  {
   "cell_type": "code",
   "execution_count": 46,
   "metadata": {},
   "outputs": [
    {
     "name": "stdout",
     "output_type": "stream",
     "text": [
      "<class 'pandas.core.frame.DataFrame'>\n",
      "Int64Index: 200 entries, 1 to 200\n",
      "Data columns (total 4 columns):\n",
      " #   Column          Non-Null Count  Dtype \n",
      "---  ------          --------------  ----- \n",
      " 0   gender          200 non-null    object\n",
      " 1   age             200 non-null    int64 \n",
      " 2   annual_income   200 non-null    int64 \n",
      " 3   spending_score  200 non-null    int64 \n",
      "dtypes: int64(3), object(1)\n",
      "memory usage: 7.8+ KB\n"
     ]
    }
   ],
   "source": [
    "df.info()"
   ]
  },
  {
   "cell_type": "code",
   "execution_count": 59,
   "metadata": {
    "tags": []
   },
   "outputs": [],
   "source": [
    "def nulls_by_col(df):\n",
    "    num_missing = df.isnull().sum()\n",
    "    rows = df.shape[0]\n",
    "    prcnt_miss = num_missing / rows * 100\n",
    "    cols_missing = pd.DataFrame({'num_rows_missing': num_missing, 'percent_rows_missing': prcnt_miss})\n",
    "    return cols_missing"
   ]
  },
  {
   "cell_type": "code",
   "execution_count": 60,
   "metadata": {},
   "outputs": [
    {
     "data": {
      "text/html": [
       "<div>\n",
       "<style scoped>\n",
       "    .dataframe tbody tr th:only-of-type {\n",
       "        vertical-align: middle;\n",
       "    }\n",
       "\n",
       "    .dataframe tbody tr th {\n",
       "        vertical-align: top;\n",
       "    }\n",
       "\n",
       "    .dataframe thead th {\n",
       "        text-align: right;\n",
       "    }\n",
       "</style>\n",
       "<table border=\"1\" class=\"dataframe\">\n",
       "  <thead>\n",
       "    <tr style=\"text-align: right;\">\n",
       "      <th></th>\n",
       "      <th>num_rows_missing</th>\n",
       "      <th>percent_rows_missing</th>\n",
       "    </tr>\n",
       "  </thead>\n",
       "  <tbody>\n",
       "    <tr>\n",
       "      <th>gender</th>\n",
       "      <td>0</td>\n",
       "      <td>0.0</td>\n",
       "    </tr>\n",
       "    <tr>\n",
       "      <th>age</th>\n",
       "      <td>0</td>\n",
       "      <td>0.0</td>\n",
       "    </tr>\n",
       "    <tr>\n",
       "      <th>annual_income</th>\n",
       "      <td>0</td>\n",
       "      <td>0.0</td>\n",
       "    </tr>\n",
       "    <tr>\n",
       "      <th>spending_score</th>\n",
       "      <td>0</td>\n",
       "      <td>0.0</td>\n",
       "    </tr>\n",
       "  </tbody>\n",
       "</table>\n",
       "</div>"
      ],
      "text/plain": [
       "                num_rows_missing  percent_rows_missing\n",
       "gender                         0                   0.0\n",
       "age                            0                   0.0\n",
       "annual_income                  0                   0.0\n",
       "spending_score                 0                   0.0"
      ]
     },
     "execution_count": 60,
     "metadata": {},
     "output_type": "execute_result"
    }
   ],
   "source": [
    "nulls_by_col(df)"
   ]
  },
  {
   "cell_type": "code",
   "execution_count": 58,
   "metadata": {},
   "outputs": [
    {
     "data": {
      "text/plain": [
       "gender            0.0\n",
       "age               0.0\n",
       "annual_income     0.0\n",
       "spending_score    0.0\n",
       "dtype: float64"
      ]
     },
     "execution_count": 58,
     "metadata": {},
     "output_type": "execute_result"
    }
   ],
   "source": [
    "percent_missing"
   ]
  },
  {
   "cell_type": "code",
   "execution_count": 55,
   "metadata": {},
   "outputs": [
    {
     "data": {
      "text/plain": [
       "200"
      ]
     },
     "execution_count": 55,
     "metadata": {},
     "output_type": "execute_result"
    }
   ],
   "source": [
    "df.shape[0]"
   ]
  },
  {
   "cell_type": "code",
   "execution_count": 61,
   "metadata": {},
   "outputs": [],
   "source": [
    "# pandas axes:\n",
    "# rows: r0ws\n",
    "# cols: co1s"
   ]
  },
  {
   "cell_type": "code",
   "execution_count": 71,
   "metadata": {
    "tags": []
   },
   "outputs": [],
   "source": [
    "def nulls_by_row(df):\n",
    "    num_missing = df.isnull().sum(axis=1)\n",
    "    prcnt_miss = num_missing / df.shape[1] * 100\n",
    "    rows_missing = pd.DataFrame({'num_cols_missing': num_missing, 'percent_cols_missing': prcnt_miss})\\\n",
    "    .reset_index()\\\n",
    "    .groupby(['num_cols_missing', 'percent_cols_missing']).count()\\\n",
    "    .rename(index=str, columns={'customer_id': 'num_rows'}).reset_index()\n",
    "    return rows_missing"
   ]
  },
  {
   "cell_type": "code",
   "execution_count": 74,
   "metadata": {},
   "outputs": [
    {
     "name": "stdout",
     "output_type": "stream",
     "text": [
      "|    |   num_cols_missing |   percent_cols_missing |   num_rows |\n",
      "|---:|-------------------:|-----------------------:|-----------:|\n",
      "|  0 |                  0 |                      0 |        200 |\n"
     ]
    }
   ],
   "source": [
    "print(nulls_by_row(df).to_markdown())"
   ]
  },
  {
   "cell_type": "code",
   "execution_count": 75,
   "metadata": {
    "tags": []
   },
   "outputs": [],
   "source": [
    "def summarize(df):\n",
    "    '''\n",
    "    summarize will take in a single argument (a pandas dataframe) \n",
    "    and output to console various statistics on said dataframe, including:\n",
    "    # .head()\n",
    "    # .info()\n",
    "    # .describe()\n",
    "    # value_counts()\n",
    "    # observation of nulls in the dataframe\n",
    "    '''\n",
    "    print('=====================================================\\n\\n')\n",
    "    print('Dataframe head: ')\n",
    "    print(df.head(3).to_markdown())\n",
    "    print('=====================================================\\n\\n')\n",
    "    print('Dataframe info: ')\n",
    "    print(df.info())\n",
    "    print('=====================================================\\n\\n')\n",
    "    print('Dataframe Description: ')\n",
    "    print(df.describe().to_markdown())\n",
    "    num_cols = [col for col in df.columns if df[col].dtype != 'O']\n",
    "    cat_cols = [col for col in df.columns if col not in num_cols]\n",
    "    print('=====================================================')\n",
    "    print('DataFrame value counts: ')\n",
    "    for col in df.columns:\n",
    "        if col in cat_cols:\n",
    "            print(df[col].value_counts())\n",
    "        else:\n",
    "            print(df[col].value_counts(bins=10, sort=False))\n",
    "    print('=====================================================')\n",
    "    print('nulls in dataframe by column: ')\n",
    "    print(nulls_by_col(df))\n",
    "    print('=====================================================')\n",
    "    print('nulls in dataframe by row: ')\n",
    "    print(nulls_by_row(df))\n",
    "    print('=====================================================')"
   ]
  },
  {
   "cell_type": "code",
   "execution_count": 76,
   "metadata": {
    "tags": []
   },
   "outputs": [
    {
     "name": "stdout",
     "output_type": "stream",
     "text": [
      "=====================================================\n",
      "\n",
      "\n",
      "Dataframe head: \n",
      "|   customer_id | gender   |   age |   annual_income |   spending_score |\n",
      "|--------------:|:---------|------:|----------------:|-----------------:|\n",
      "|             1 | Male     |    19 |              15 |               39 |\n",
      "|             2 | Male     |    21 |              15 |               81 |\n",
      "|             3 | Female   |    20 |              16 |                6 |\n",
      "=====================================================\n",
      "\n",
      "\n",
      "Dataframe info: \n",
      "<class 'pandas.core.frame.DataFrame'>\n",
      "Int64Index: 200 entries, 1 to 200\n",
      "Data columns (total 4 columns):\n",
      " #   Column          Non-Null Count  Dtype \n",
      "---  ------          --------------  ----- \n",
      " 0   gender          200 non-null    object\n",
      " 1   age             200 non-null    int64 \n",
      " 2   annual_income   200 non-null    int64 \n",
      " 3   spending_score  200 non-null    int64 \n",
      "dtypes: int64(3), object(1)\n",
      "memory usage: 7.8+ KB\n",
      "None\n",
      "=====================================================\n",
      "\n",
      "\n",
      "Dataframe Description: \n",
      "|       |     age |   annual_income |   spending_score |\n",
      "|:------|--------:|----------------:|-----------------:|\n",
      "| count | 200     |        200      |         200      |\n",
      "| mean  |  38.85  |         60.56   |          50.2    |\n",
      "| std   |  13.969 |         26.2647 |          25.8235 |\n",
      "| min   |  18     |         15      |           1      |\n",
      "| 25%   |  28.75  |         41.5    |          34.75   |\n",
      "| 50%   |  36     |         61.5    |          50      |\n",
      "| 75%   |  49     |         78      |          73      |\n",
      "| max   |  70     |        137      |          99      |\n",
      "=====================================================\n",
      "DataFrame value counts: \n",
      "Female    112\n",
      "Male       88\n",
      "Name: gender, dtype: int64\n",
      "(17.947, 23.2]    31\n",
      "(23.2, 28.4]      19\n",
      "(28.4, 33.6]      34\n",
      "(33.6, 38.8]      29\n",
      "(38.8, 44.0]      18\n",
      "(44.0, 49.2]      24\n",
      "(49.2, 54.4]      15\n",
      "(54.4, 59.6]      10\n",
      "(59.6, 64.8]       6\n",
      "(64.8, 70.0]      14\n",
      "Name: age, dtype: int64\n",
      "(14.877, 27.2]    24\n",
      "(27.2, 39.4]      22\n",
      "(39.4, 51.6]      28\n",
      "(51.6, 63.8]      38\n",
      "(63.8, 76.0]      32\n",
      "(76.0, 88.2]      34\n",
      "(88.2, 100.4]      8\n",
      "(100.4, 112.6]     6\n",
      "(112.6, 124.8]     4\n",
      "(124.8, 137.0]     4\n",
      "Name: annual_income, dtype: int64\n",
      "(0.901, 10.8]    16\n",
      "(10.8, 20.6]     20\n",
      "(20.6, 30.4]     10\n",
      "(30.4, 40.2]     17\n",
      "(40.2, 50.0]     40\n",
      "(50.0, 59.8]     32\n",
      "(59.8, 69.6]     11\n",
      "(69.6, 79.4]     24\n",
      "(79.4, 89.2]     14\n",
      "(89.2, 99.0]     16\n",
      "Name: spending_score, dtype: int64\n",
      "=====================================================\n",
      "nulls in dataframe by column: \n",
      "                num_rows_missing  percent_rows_missing\n",
      "gender                         0                   0.0\n",
      "age                            0                   0.0\n",
      "annual_income                  0                   0.0\n",
      "spending_score                 0                   0.0\n",
      "=====================================================\n",
      "nulls in dataframe by row: \n",
      "  num_cols_missing percent_cols_missing  num_rows\n",
      "0                0                  0.0       200\n",
      "=====================================================\n"
     ]
    }
   ],
   "source": [
    "summarize(df)"
   ]
  },
  {
   "cell_type": "code",
   "execution_count": 77,
   "metadata": {
    "tags": []
   },
   "outputs": [
    {
     "data": {
      "image/png": "[encoded data removed]",
      "text/plain": [
       "<Figure size 432x288 with 4 Axes>"
      ]
     },
     "metadata": {
      "needs_background": "light"
     },
     "output_type": "display_data"
    }
   ],
   "source": [
    "df.hist()\n",
    "plt.tight_layout()\n",
    "plt.show()"
   ]
  },
  {
   "cell_type": "code",
   "execution_count": 78,
   "metadata": {},
   "outputs": [],
   "source": [
    "# hypothetical // practical removal of nulls:"
   ]
  },
  {
   "cell_type": "code",
   "execution_count": 84,
   "metadata": {
    "tags": []
   },
   "outputs": [],
   "source": [
    "def remove_columns(df, cols_to_remove):\n",
    "    df = df.drop(columns=cols_to_remove)\n",
    "    return df"
   ]
  },
  {
   "cell_type": "code",
   "execution_count": 81,
   "metadata": {
    "tags": []
   },
   "outputs": [],
   "source": [
    "def handle_missing_values(df, prop_required_columns=0.5, prop_required_row=0.75):\n",
    "    threshold = int(round(prop_required_columns * len(df.index), 0))\n",
    "    df = df.dropna(axis=1, thresh=threshold)\n",
    "    threshold = int(round(prop_required_row * len(df.columns), 0))\n",
    "    df = df.dropna(axis=0, thresh=threshold)\n",
    "    return df"
   ]
  },
  {
   "cell_type": "code",
   "execution_count": 82,
   "metadata": {
    "tags": []
   },
   "outputs": [],
   "source": [
    "# combining everything in a cleaning function:\n",
    "\n",
    "def data_prep(df, cols_to_remove=[], prop_required_column=0.5, prop_required_row=0.75):\n",
    "    df = remove_columns(df, cols_to_remove)\n",
    "    df = handle_missing_values(df, prop_required_column, prop_required_row)\n",
    "    return df"
   ]
  },
  {
   "cell_type": "code",
   "execution_count": 85,
   "metadata": {
    "tags": []
   },
   "outputs": [],
   "source": [
    "df = data_prep(df)"
   ]
  },
  {
   "cell_type": "code",
   "execution_count": 87,
   "metadata": {},
   "outputs": [
    {
     "name": "stdout",
     "output_type": "stream",
     "text": [
      "<class 'pandas.core.frame.DataFrame'>\n",
      "Int64Index: 200 entries, 1 to 200\n",
      "Data columns (total 4 columns):\n",
      " #   Column          Non-Null Count  Dtype \n",
      "---  ------          --------------  ----- \n",
      " 0   gender          200 non-null    object\n",
      " 1   age             200 non-null    int64 \n",
      " 2   annual_income   200 non-null    int64 \n",
      " 3   spending_score  200 non-null    int64 \n",
      "dtypes: int64(3), object(1)\n",
      "memory usage: 7.8+ KB\n"
     ]
    }
   ],
   "source": [
    "df.info()"
   ]
  },
  {
   "cell_type": "code",
   "execution_count": 88,
   "metadata": {
    "tags": []
   },
   "outputs": [],
   "source": [
    "# Handling Outliers:\n",
    "# note your use-case! (handle outliers approrpriately. \n",
    "# ( Do we want to drop them? )\n",
    "# z-score: appropriate for normal data, based on normal distribution\n",
    "# Tukey: utilizing fences with inner quartile range, not contingent on normality"
   ]
  },
  {
   "cell_type": "code",
   "execution_count": 89,
   "metadata": {},
   "outputs": [],
   "source": [
    "# to utilize tukeys method:\n",
    "# calculate iqr:\n",
    "# get Q3 and Q1, get difference (q3 - q1)\n",
    "# establish fences: \n",
    "## standard inner fence: 1.5\n",
    "## standard outer fence: 3\n",
    "# upper bound: q3 + k * iqr\n",
    "# lower bound: q1 - k * iqr"
   ]
  },
  {
   "cell_type": "code",
   "execution_count": 90,
   "metadata": {
    "tags": []
   },
   "outputs": [],
   "source": [
    "def get_upper_outliers(s, k=1.5):\n",
    "    q1, q3 = s.quantile([.25, 0.75])\n",
    "    iqr = q3 - q1\n",
    "    upper_bound = q3 + k * iqr\n",
    "    return s.apply(lambda x: max([x - upper_bound, 0]))"
   ]
  },
  {
   "cell_type": "code",
   "execution_count": 91,
   "metadata": {
    "tags": []
   },
   "outputs": [],
   "source": [
    "def add_upper_outlier_columns(df, k=1.5):\n",
    "    for col in df.select_dtypes('number'):\n",
    "        df[col + '_outliers_upper'] = get_upper_outliers(df[col], k)\n",
    "    return df"
   ]
  },
  {
   "cell_type": "code",
   "execution_count": 92,
   "metadata": {
    "tags": []
   },
   "outputs": [],
   "source": [
    "df = add_upper_outlier_columns(df)"
   ]
  },
  {
   "cell_type": "code",
   "execution_count": 93,
   "metadata": {
    "tags": []
   },
   "outputs": [
    {
     "data": {
      "text/html": [
       "<div>\n",
       "<style scoped>\n",
       "    .dataframe tbody tr th:only-of-type {\n",
       "        vertical-align: middle;\n",
       "    }\n",
       "\n",
       "    .dataframe tbody tr th {\n",
       "        vertical-align: top;\n",
       "    }\n",
       "\n",
       "    .dataframe thead th {\n",
       "        text-align: right;\n",
       "    }\n",
       "</style>\n",
       "<table border=\"1\" class=\"dataframe\">\n",
       "  <thead>\n",
       "    <tr style=\"text-align: right;\">\n",
       "      <th></th>\n",
       "      <th>gender</th>\n",
       "      <th>age</th>\n",
       "      <th>annual_income</th>\n",
       "      <th>spending_score</th>\n",
       "      <th>age_outliers_upper</th>\n",
       "      <th>annual_income_outliers_upper</th>\n",
       "      <th>spending_score_outliers_upper</th>\n",
       "    </tr>\n",
       "    <tr>\n",
       "      <th>customer_id</th>\n",
       "      <th></th>\n",
       "      <th></th>\n",
       "      <th></th>\n",
       "      <th></th>\n",
       "      <th></th>\n",
       "      <th></th>\n",
       "      <th></th>\n",
       "    </tr>\n",
       "  </thead>\n",
       "  <tbody>\n",
       "    <tr>\n",
       "      <th>1</th>\n",
       "      <td>Male</td>\n",
       "      <td>19</td>\n",
       "      <td>15</td>\n",
       "      <td>39</td>\n",
       "      <td>0</td>\n",
       "      <td>0.0</td>\n",
       "      <td>0</td>\n",
       "    </tr>\n",
       "    <tr>\n",
       "      <th>2</th>\n",
       "      <td>Male</td>\n",
       "      <td>21</td>\n",
       "      <td>15</td>\n",
       "      <td>81</td>\n",
       "      <td>0</td>\n",
       "      <td>0.0</td>\n",
       "      <td>0</td>\n",
       "    </tr>\n",
       "    <tr>\n",
       "      <th>3</th>\n",
       "      <td>Female</td>\n",
       "      <td>20</td>\n",
       "      <td>16</td>\n",
       "      <td>6</td>\n",
       "      <td>0</td>\n",
       "      <td>0.0</td>\n",
       "      <td>0</td>\n",
       "    </tr>\n",
       "    <tr>\n",
       "      <th>4</th>\n",
       "      <td>Female</td>\n",
       "      <td>23</td>\n",
       "      <td>16</td>\n",
       "      <td>77</td>\n",
       "      <td>0</td>\n",
       "      <td>0.0</td>\n",
       "      <td>0</td>\n",
       "    </tr>\n",
       "    <tr>\n",
       "      <th>5</th>\n",
       "      <td>Female</td>\n",
       "      <td>31</td>\n",
       "      <td>17</td>\n",
       "      <td>40</td>\n",
       "      <td>0</td>\n",
       "      <td>0.0</td>\n",
       "      <td>0</td>\n",
       "    </tr>\n",
       "  </tbody>\n",
       "</table>\n",
       "</div>"
      ],
      "text/plain": [
       "             gender  age  annual_income  spending_score  age_outliers_upper  \\\n",
       "customer_id                                                                   \n",
       "1              Male   19             15              39                   0   \n",
       "2              Male   21             15              81                   0   \n",
       "3            Female   20             16               6                   0   \n",
       "4            Female   23             16              77                   0   \n",
       "5            Female   31             17              40                   0   \n",
       "\n",
       "             annual_income_outliers_upper  spending_score_outliers_upper  \n",
       "customer_id                                                               \n",
       "1                                     0.0                              0  \n",
       "2                                     0.0                              0  \n",
       "3                                     0.0                              0  \n",
       "4                                     0.0                              0  \n",
       "5                                     0.0                              0  "
      ]
     },
     "execution_count": 93,
     "metadata": {},
     "output_type": "execute_result"
    }
   ],
   "source": [
    "df.head()"
   ]
  },
  {
   "cell_type": "code",
   "execution_count": 94,
   "metadata": {
    "tags": []
   },
   "outputs": [
    {
     "name": "stdout",
     "output_type": "stream",
     "text": [
      "age_outliers_upper : \n",
      "count    0.0\n",
      "mean     NaN\n",
      "std      NaN\n",
      "min      NaN\n",
      "25%      NaN\n",
      "50%      NaN\n",
      "75%      NaN\n",
      "max      NaN\n",
      "Name: age_outliers_upper, dtype: float64\n",
      "annual_income_outliers_upper : \n",
      "count    2.00\n",
      "mean     4.25\n",
      "std      0.00\n",
      "min      4.25\n",
      "25%      4.25\n",
      "50%      4.25\n",
      "75%      4.25\n",
      "max      4.25\n",
      "Name: annual_income_outliers_upper, dtype: float64\n",
      "spending_score_outliers_upper : \n",
      "count    0.0\n",
      "mean     NaN\n",
      "std      NaN\n",
      "min      NaN\n",
      "25%      NaN\n",
      "50%      NaN\n",
      "75%      NaN\n",
      "max      NaN\n",
      "Name: spending_score_outliers_upper, dtype: float64\n"
     ]
    }
   ],
   "source": [
    "outlier_cols = [col for col in df.columns if col.endswith('_outliers_upper')]\n",
    "for col in outlier_cols:\n",
    "    print(col, ': ')\n",
    "    subset = df[col][df[col] > 0]\n",
    "    print(subset.describe())"
   ]
  },
  {
   "cell_type": "code",
   "execution_count": null,
   "metadata": {},
   "outputs": [],
   "source": [
    "# we have:\n",
    "# in an organized fashion:\n",
    "# acquired our data\n",
    "# examined the structure and integrity of the data\n",
    "# we hav observed descriptive statistics (univariate)\n",
    "# we have examined null values in a nuanced fashion\n",
    "# we have examined where our outliers live and assessed how we want to approach them\n",
    " # (Takeaway: our outliers exist in income, they appear to be valid and I will not \n",
    "    # drop them at this time)"
   ]
  }
 ],
 "metadata": {
  "kernelspec": {
   "display_name": "Python 3",
   "language": "python",
   "name": "python3"
  },
  "language_info": {
   "codemirror_mode": {
    "name": "ipython",
    "version": 3
   },
   "file_extension": ".py",
   "mimetype": "text/x-python",
   "name": "python",
   "nbconvert_exporter": "python",
   "pygments_lexer": "ipython3",
   "version": "3.9.4"
  },
  "toc": {
   "base_numbering": 1,
   "nav_menu": {},
   "number_sections": false,
   "sideBar": false,
   "skip_h1_title": false,
   "title_cell": "Table of Contents",
   "title_sidebar": "Contents",
   "toc_cell": false,
   "toc_position": {},
   "toc_section_display": false,
   "toc_window_display": false
  }
 },
 "nbformat": 4,
 "nbformat_minor": 4
}
